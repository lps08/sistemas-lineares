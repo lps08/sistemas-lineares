{
 "cells": [
  {
   "cell_type": "code",
   "execution_count": 1,
   "metadata": {},
   "outputs": [],
   "source": [
    "import numpy as np"
   ]
  },
  {
   "cell_type": "markdown",
   "metadata": {},
   "source": [
    "# Algoritmo eliminação gaussiana"
   ]
  },
  {
   "cell_type": "code",
   "execution_count": 33,
   "metadata": {},
   "outputs": [],
   "source": [
    "class EliminacaoGauss:\n",
    "    def __init__(self, a, b):\n",
    "        self.a = a\n",
    "        self.b = b\n",
    "        self.u, self.c = self.matrizTriangular()\n",
    "        self.resolucao = self.substituicaoRegressiva()\n",
    "\n",
    "    def matrizTriangular(self):\n",
    "        \"\"\" Função que faz o cálculo de eliminação de gaus.\n",
    "        a = matriz de entrada, b = vetor b. \"\"\"\n",
    "\n",
    "        #loop que percorre toda a matriz\n",
    "        for j in range(len(self.a) - 1):\n",
    "            for i in range(j + 1, len(self.a[j])):\n",
    "                # representação de mij = aij/ajj\n",
    "                m = self.a[i][j] / self.a[j][j]\n",
    "\n",
    "                # representação de bi = bi - mij bj\n",
    "                self.b[i] = self.b[i] - (m * self.b[j])\n",
    "\n",
    "                # representação de aik = aik - mij ajk\n",
    "                for k in range(j, len(self.a)):\n",
    "                    self.a[i][k] = self.a[i][k] - (m * self.a[j][k])\n",
    "        \n",
    "        # retorna a matriz triangular com o vetor b, após\n",
    "        # o cálculo da eliminação de gauss\n",
    "        return self.a, self.b\n",
    "\n",
    "    def substituicaoRegressiva(self):\n",
    "        \"\"\" Função que faz o cálculo da substituição regressiva.\n",
    "            u = matriz triangular, c = vetor b da saida da matriz\n",
    "            triangular. \"\"\"\n",
    "            \n",
    "        # define x com o mesmo tamnho do vetor c\n",
    "        x = np.zeros((len(self.c)))\n",
    "\n",
    "        # calculo da eliminação regressiva\n",
    "        for i in reversed(range(len(self.u))):\n",
    "            x[i] = self.c[i]\n",
    "            for j in range(i + 1, len(self.u[i])):\n",
    "                x[i] = x[i] - (self.u[i][j] * x[j])\n",
    "\n",
    "            x[i] = x[i]/self.u[i][i]\n",
    "\n",
    "        # retorna a solução do sistema no vetor,\n",
    "        # onde o índice i representa o xi\n",
    "        return x\n",
    "    "
   ]
  },
  {
   "cell_type": "markdown",
   "metadata": {},
   "source": [
    "# Algoritmo pivotamento parcial"
   ]
  },
  {
   "cell_type": "code",
   "execution_count": 66,
   "metadata": {},
   "outputs": [],
   "source": [
    "class PivotamentoParcial:\n",
    "    def __init__(self, a, b):\n",
    "        \"\"\" Classe resposável pelo calculo do método de gauss com pivotamento parcial,\n",
    "        onde a = matriz e b = vetor b \"\"\"\n",
    "\n",
    "        self.a = a\n",
    "        self.b = b\n",
    "        self.u, self. c = self.matrizTriangular()\n",
    "        self.resolucao = self.substituicaoRegressiva()\n",
    "\n",
    "    def permuteMax(self, col):\n",
    "        \"\"\" Função responsável por fazer a permutação de uma determinada matriz\n",
    "            com pivo o máximo, dado o indice da coluna do pivo\n",
    "        \"\"\"\n",
    "        # pega o índice da coluna em que será feito o pivotamento\n",
    "        maxPivoIndex = col\n",
    "\n",
    "        # verifica qual o maior número do pivô\n",
    "        for pivo in range(col, len(self.a)):\n",
    "            if abs(self.a[pivo][col]) > abs(self.a[maxPivoIndex][col]):\n",
    "                maxPivoIndex = pivo\n",
    "                \n",
    "                # print(\"{} > {}\".format(abs(self.a[pivo][col]), abs(self.a[maxPivoIndex][col])))\n",
    "\n",
    "        # fazendo a permutação\n",
    "        maxList = self.a[maxPivoIndex]\n",
    "        self.a[maxPivoIndex] = self.a[col]\n",
    "        self.a[col] = maxList\n",
    "\n",
    "        # retorna a matriz permutada\n",
    "        return self.a\n",
    "\n",
    "    def matrizTriangular(self):\n",
    "        \"\"\" Função responsavel por gerar a matriz traiangular\"\"\"\n",
    "        \n",
    "        # percorrendo a matriz\n",
    "        for j in range(len(self.a)):\n",
    "\n",
    "            # usando a função anterior para fazer a permutação\n",
    "            self.a = self.permuteMax(j)\n",
    "\n",
    "            # aplicando mesmo método de eliminação de gaus,\n",
    "            # mas com a matriz permutada\n",
    "            for i in range(j + 1, len(self.a[j])):\n",
    "                m = self.a[i][j] / self.a[j][j]\n",
    "                self.b[i] = self.b[i] - (m * self.b[j])\n",
    "\n",
    "                for k in range(j, len(self.a)):\n",
    "                    self.a[i][k] = self.a[i][k] - (m * self.a[j][k])\n",
    "\n",
    "        # retorn a matriz triangular e o vetor b,\n",
    "        # após o cálculo de pivotamento parcial\n",
    "        return self.a, self.b\n",
    "\n",
    "    def substituicaoRegressiva(self):\n",
    "        \"\"\" Função que faz o cálculo da substituição regressiva.\n",
    "            u = matriz triangular, c = vetor b da saida da matriz\n",
    "            triangular. \"\"\"\n",
    "            \n",
    "        # define x com o mesmo tamnho do vetor c\n",
    "        x = np.zeros((len(self.c)))\n",
    "\n",
    "        # calculo da eliminação regressiva\n",
    "        for i in reversed(range(len(self.u))):\n",
    "            x[i] = self.c[i]\n",
    "            for j in range(i + 1, len(self.u[i])):\n",
    "                x[i] = x[i] - (self.u[i][j] * x[j])\n",
    "\n",
    "            x[i] = x[i]/self.u[i][i]\n",
    "\n",
    "        # retorna a solução do sistema no vetor,\n",
    "        # onde o índice i representa o xi\n",
    "        return x"
   ]
  },
  {
   "cell_type": "markdown",
   "metadata": {},
   "source": [
    "# Algoritmo método de Jacobi"
   ]
  },
  {
   "cell_type": "code",
   "execution_count": 50,
   "metadata": {},
   "outputs": [],
   "source": [
    "class Jacobi:\n",
    "    def __init__(self, a, b, maxIter, erro, x0):\n",
    "        \"\"\"Classe em que é responsavel pela resolução de um sistema linear com o método \n",
    "            iterativo de Jacobi.\n",
    "            a = matriz; b = vetor b; maxIter = numero de iterações, erro = erro mínimo a \n",
    "            ser alcançado e x0 = valores iniciais de x\"\"\"\n",
    "        \n",
    "        self.a = a\n",
    "        self.b = b\n",
    "        self.maxIter = maxIter\n",
    "        self.erro = erro\n",
    "        self.x0 = x0\n",
    "        \n",
    "        # pegando a diagonal princiapal e a matriz zerada a diagonal principal\n",
    "        self.d, self.m = self.diag_m()\n",
    "        \n",
    "        self.converge = self.criterioDasLinhas()\n",
    "\n",
    "        self.resolucao = self.jacobi()\n",
    "\n",
    "    def diag_m(self):\n",
    "        \"\"\" Função que retorna a diagonal principal e a matriz com a\n",
    "            diagonal princial zerada. \"\"\"\n",
    "        # lista que será armazenada a diagonal principal da matriz\n",
    "        d = []\n",
    "\n",
    "        # copia a matriz para ficar com os mesmo elementos da\n",
    "        # da matriz de entrada\n",
    "        m = np.array(self.a).copy()\n",
    "\n",
    "        # percorre a matriz\n",
    "        for i in range(len(self.a)):\n",
    "            for j in range(len(self.a[i])):\n",
    "                # verifica se não está na matriz principal\n",
    "                # caso não esteja, adiciona o elemento a matriz m\n",
    "                if i != j:\n",
    "                    m[i][j] = self.a[i][j]\n",
    "\n",
    "                # caso seja da diagonal principal, appenda o valor\n",
    "                # a lista de d e remove da matriz m\n",
    "                else:\n",
    "                    m[i][j] = 0\n",
    "                    d.append(self.a[i][j])\n",
    "\n",
    "        # retorna a diagonal principal e matriz zerada a diagonal principal\n",
    "        return d, m\n",
    "\n",
    "    def jacobi(self):\n",
    "        \"\"\" Função que usa o algoritmo de jacobi\"\"\"\n",
    "            \n",
    "        k = 0\n",
    "        dr = self.erro + 1\n",
    "\n",
    "        # criando o vetor do mesmo tamanho de x0 para fazer as operações\n",
    "        # e no final passar os valores para x0\n",
    "        x = np.zeros((len(self.x0)))\n",
    "\n",
    "        while k <= self.maxIter and dr > self.erro:\n",
    "            k += 1\n",
    "\n",
    "            for i in range(len(self.a)):\n",
    "                # print(\"{} * {}\".format(m[i], x0))\n",
    "                # representação do cálculo de Mx0\n",
    "                dx = self.m[i] * self.x0\n",
    "\n",
    "                # representação de x = (b - Mx0) / D, onde Mx0 = dx do cálculo anterior \n",
    "                x[i] = (self.b[i] - dx.sum()) / self.d[i]\n",
    "\n",
    "            # pegando o valor máximo do cálculo do erro de cada x\n",
    "            dr = np.array(abs(x - self.x0)).max()\n",
    "\n",
    "            # mostrando os valores de x e erro de cada iteração\n",
    "#             print(x, dr)\n",
    "\n",
    "            # usando copy do numpy, pois somente passando x0 = x, o x0 estava pegando a referencia de x\n",
    "            self.x0 = np.array(x).copy()\n",
    "\n",
    "        # retorn o X da solução encontrada, o erro mínimo e o número de iteração\n",
    "        return self.x0, dr, k\n",
    "    \n",
    "    def criterioDasLinhas(self) -> bool:\n",
    "        \"\"\" Função responsável por dizer se um determinado sistema é convergente ou não.\"\"\"\n",
    "        \n",
    "        #Percorre cada linha da matriz\n",
    "        for i in range(len(self.m)):\n",
    "            #soma a linha da matriz zerada a diagonal principal dividido pela diagonal princial\n",
    "            if self.m[i].sum()/self.d[i] >= 1:\n",
    "                return False\n",
    "            \n",
    "        return True"
   ]
  },
  {
   "cell_type": "markdown",
   "metadata": {},
   "source": [
    "# Algoritmo método Gauss Seidel"
   ]
  },
  {
   "cell_type": "code",
   "execution_count": 49,
   "metadata": {},
   "outputs": [],
   "source": [
    "class GaussSeidel:\n",
    "    def __init__(self, a, b, maxIter, erro, x0):\n",
    "        \"\"\" Cálculo do método de gauss-seidel para a resolução de um\n",
    "            sistema linear. \n",
    "            a = matriz; b = vetor b; maxIter = máximo de iterações; \n",
    "            erro = erro a ser atingido como método de parada;\n",
    "            x0 = valores iniciais de x.\"\"\"\n",
    "        \n",
    "        self.a = a\n",
    "        self.b = b\n",
    "        self.maxIter = maxIter\n",
    "        self.erro = erro\n",
    "        self.x0 = x0\n",
    "        \n",
    "        # pegando a diagonal princiapal e a matriz zerada a diagonal principal\n",
    "        self.d, self.m = self.diag_m()\n",
    "        \n",
    "        self.converge = self.criterioDasLinhas()\n",
    "\n",
    "        self.resolucao = self.gaussSeidel()\n",
    "\n",
    "    def diag_m(self):\n",
    "        \"\"\" Função que retorna a diagonal principal e a matriz com a\n",
    "            diagonal princial zerada. \"\"\"\n",
    "        # lista que será armazenada a diagonal principal da matriz\n",
    "        d = []\n",
    "\n",
    "        # copia a matriz para ficar com os mesmo elementos da\n",
    "        # da matriz de entrada\n",
    "        m = np.array(self.a).copy()\n",
    "\n",
    "        # percorre a matriz\n",
    "        for i in range(len(self.a)):\n",
    "            for j in range(len(self.a[i])):\n",
    "                # verifica se não está na matriz principal\n",
    "                # caso não esteja, adiciona o elemento a matriz m\n",
    "                if i != j:\n",
    "                    m[i][j] = self.a[i][j]\n",
    "\n",
    "                # caso seja da diagonal principal, appenda o valor\n",
    "                # a lista de d e remove da matriz m\n",
    "                else:\n",
    "                    m[i][j] = 0\n",
    "                    d.append(self.a[i][j])\n",
    "\n",
    "        # retorna a diagonal principal e matriz zerada a diagonal principal\n",
    "        return d, m\n",
    "\n",
    "    def gaussSeidel(self):\n",
    "        \"\"\" Cálculo utilizando o algoritmo de gauss-seidel.\"\"\"\n",
    "\n",
    "        k = 0\n",
    "        dr = self.erro + 1\n",
    "\n",
    "        # matriz do tamanho de x0, para receber os valores\n",
    "        x = np.zeros((len(self.x0)))\n",
    "\n",
    "        # pegando os elementos pelo for, pois passando somente x = x0 pegava referencia, \n",
    "        # assim como a função copy tando do numpy quanto nativa do python\n",
    "        for i in range(len(self.x0)):\n",
    "            x[i] = self.x0[i]\n",
    "\n",
    "        while k <= self.maxIter and dr > self.erro:\n",
    "            k += 1\n",
    "\n",
    "            for i in range(len(self.a)):\n",
    "                # print(\"{} * {}\".format(m[i], x0))\n",
    "                # representação do cálculo de Mx\n",
    "                dx = self.m[i] * x\n",
    "\n",
    "                # representação de x = (b - Mx0) / D, onde Mx = dx do cálculo anterior \n",
    "                x[i] = (self.b[i] - dx.sum()) / self.d[i]\n",
    "\n",
    "            # pegando o valor máximo do cálculo do erro de cada x\n",
    "            dr = np.array(abs(x - self.x0)).max()\n",
    "\n",
    "            # mostrando os valores de x e erro de cada iteração\n",
    "#             print(x, dr)\n",
    "\n",
    "            # usando copy do numpy, pois somente passando x0 = x, o x0 estava pegando a referencia de x\n",
    "            self.x0 = np.array(x).copy()\n",
    "\n",
    "        # retorn o X da solução encontrada, o erro mínimo e o número de iteração\n",
    "        return self.x0, dr, k\n",
    "    \n",
    "    def criterioDasLinhas(self) -> bool:\n",
    "        \"\"\" Função responsável por dizer se um determinado sistema é convergente ou não.\"\"\"\n",
    "        \n",
    "        #Percorre cada linha da matriz\n",
    "        for i in range(len(self.m)):\n",
    "            #soma a linha da matriz zerada a diagonal principal dividido pela diagonal princial\n",
    "            if self.m[i].sum()/self.d[i] >= 1:\n",
    "                return False\n",
    "            \n",
    "        return True"
   ]
  },
  {
   "cell_type": "markdown",
   "metadata": {},
   "source": [
    "# Atividade EPC-1"
   ]
  },
  {
   "cell_type": "markdown",
   "metadata": {},
   "source": [
    "## 1. Resolva o sistema linear abaixo utilizando o método da eliminação de  Gauss: "
   ]
  },
  {
   "cell_type": "markdown",
   "metadata": {},
   "source": [
    "![equa1](imgs/questao1.png)"
   ]
  },
  {
   "cell_type": "code",
   "execution_count": 24,
   "metadata": {},
   "outputs": [
    {
     "name": "stdout",
     "output_type": "stream",
     "text": [
      "Matriz triangular:  [[2, 2, 1, 1], [0.0, -2.0, 1.5, -1.5], [0.0, 0.0, -5.25, -2.75], [0.0, 0.0, 0.0, 0.14285714285714285]]\n",
      "Vetor b:  [7, -2.5, -5.25, 0.0]\n",
      "Resolucao do sistema:  [1. 2. 1. 0.]\n"
     ]
    }
   ],
   "source": [
    "matrizQuestao1A = [[2, 2, 1, 1],\n",
    "     [1, -1, 2, -1],\n",
    "     [3, 2, -3, -2],\n",
    "     [4, 3, 2, 1]]\n",
    "\n",
    "matrizQuestao1Ab = [7, 1, 4, 12]\n",
    "\n",
    "gauss = EliminacaoGauss(a=matrizQuestao1A, b=matrizQuestao1Ab)\n",
    "print(\"Matriz triangular: \", gauss.u)\n",
    "print(\"Vetor b: \", gauss.c)\n",
    "print(\"Resolucao do sistema: \", gauss.resolucao)"
   ]
  },
  {
   "cell_type": "markdown",
   "metadata": {},
   "source": [
    "## 2. Resolva os seguintes sistemas utilizando eliminação gaussiana sem e  com pivoteamento, utilizando: "
   ]
  },
  {
   "cell_type": "markdown",
   "metadata": {},
   "source": [
    "### A)"
   ]
  },
  {
   "cell_type": "markdown",
   "metadata": {},
   "source": [
    "![equa2](imgs/questao2a.png)"
   ]
  },
  {
   "cell_type": "markdown",
   "metadata": {},
   "source": [
    " - sem pivotamento"
   ]
  },
  {
   "cell_type": "code",
   "execution_count": 26,
   "metadata": {},
   "outputs": [
    {
     "name": "stdout",
     "output_type": "stream",
     "text": [
      "Matriz triangular:  [[0.004, 15.73], [0.0, -1688.1675]]\n",
      "Vetor b:  [15.77, -1688.1675]\n",
      "Resolucao do sistema:  [10.  1.]\n"
     ]
    }
   ],
   "source": [
    "matrizQuestao2A = [[0.004, 15.73],\n",
    "           [0.423, -24.72]]\n",
    "\n",
    "matrizQuestao2Ab = [15.77, -20.49]\n",
    "\n",
    "gauss = EliminacaoGauss(a=matrizQuestao2A, b=matrizQuestao2Ab)\n",
    "print(\"Matriz triangular: \", gauss.u)\n",
    "print(\"Vetor b: \", gauss.c)\n",
    "print(\"Resolucao do sistema: \", gauss.resolucao)"
   ]
  },
  {
   "cell_type": "markdown",
   "metadata": {},
   "source": [
    " - com pivotamento"
   ]
  },
  {
   "cell_type": "code",
   "execution_count": 59,
   "metadata": {},
   "outputs": [
    {
     "name": "stdout",
     "output_type": "stream",
     "text": [
      "Matriz triangular:  [[0.423, -24.72], [0.0, 15.963758865248227]]\n",
      "Vetor b:  [15.77, -20.639125295508272]\n",
      "Resolucao do sistema:  [-38.27385316  -1.29287378]\n"
     ]
    }
   ],
   "source": [
    "matrizQuestao2A = [[0.004, 15.73],\n",
    "           [0.423, -24.72]]\n",
    "\n",
    "matrizQuestao2Ab = [15.77, -20.49]\n",
    "\n",
    "pivotamento = PivotamentoParcial(a=matrizQuestao2A, b=matrizQuestao2Ab)\n",
    "print(\"Matriz triangular: \", pivotamento.u)\n",
    "print(\"Vetor b: \", pivotamento.c)\n",
    "print(\"Resolucao do sistema: \", pivotamento.resolucao)"
   ]
  },
  {
   "cell_type": "markdown",
   "metadata": {},
   "source": [
    "### B)"
   ]
  },
  {
   "cell_type": "markdown",
   "metadata": {},
   "source": [
    "![equa2b](imgs/questao2b.png)"
   ]
  },
  {
   "cell_type": "markdown",
   "metadata": {},
   "source": [
    " - sem pivotamento"
   ]
  },
  {
   "cell_type": "code",
   "execution_count": 28,
   "metadata": {},
   "outputs": [
    {
     "name": "stdout",
     "output_type": "stream",
     "text": [
      "Matriz triangular:  [[0.0002, 2], [0.0, -19998.0]]\n",
      "Vetor b:  [5, -49994.0]\n",
      "Resolucao do sistema [0.50005    2.49994999]\n"
     ]
    }
   ],
   "source": [
    "matrizQuestao2B = [[0.0002, 2],\n",
    "                   [2, 2]]\n",
    "\n",
    "matrizQuestao2Bb = [5, 6]\n",
    "\n",
    "gauss = EliminacaoGauss(a=matrizQuestao2B, b=matrizQuestao2Bb)\n",
    "print(\"Matriz triangular: \", gauss.u)\n",
    "print(\"Vetor b: \", gauss.c)\n",
    "print(\"Resolucao do sistema\", gauss.resolucao)"
   ]
  },
  {
   "cell_type": "markdown",
   "metadata": {},
   "source": [
    " - com pivotamento"
   ]
  },
  {
   "cell_type": "code",
   "execution_count": 29,
   "metadata": {},
   "outputs": [
    {
     "name": "stdout",
     "output_type": "stream",
     "text": [
      "Matriz triangular:  [[2, 2], [0.0, 1.9998]]\n",
      "Vetor b:  [5, 5.9995]\n",
      "Resolucao do sistema [-0.50005001  3.00005001]\n"
     ]
    }
   ],
   "source": [
    "matrizQuestao2B = [[0.0002, 2],\n",
    "                   [2, 2]]\n",
    "\n",
    "matrizQuestao2Bb = [5, 6]\n",
    "\n",
    "pivotamento = PivotamentoParcial(a=matrizQuestao2B, b=matrizQuestao2Bb)\n",
    "print(\"Matriz triangular: \", pivotamento.u)\n",
    "print(\"Vetor b: \", pivotamento.c)\n",
    "print(\"Resolucao do sistema\", pivotamento.resolucao)"
   ]
  },
  {
   "cell_type": "markdown",
   "metadata": {},
   "source": [
    "## 3. Considere o seguinte sistema "
   ]
  },
  {
   "cell_type": "markdown",
   "metadata": {},
   "source": [
    "![equa3](imgs/questao3.png)"
   ]
  },
  {
   "cell_type": "markdown",
   "metadata": {},
   "source": [
    "considerado"
   ]
  },
  {
   "cell_type": "markdown",
   "metadata": {},
   "source": [
    "## 4. Resolva este sistema linear na aritmética finita com 3 dígitos significativos e com arredondamento FP(10, 3, −9, 9) e usando os  seguintes Métodos Diretos, conforme cada item "
   ]
  },
  {
   "cell_type": "markdown",
   "metadata": {},
   "source": [
    "### a. Método de Eliminação de Gauss com pivoteamento parcial.  "
   ]
  },
  {
   "cell_type": "code",
   "execution_count": 18,
   "metadata": {},
   "outputs": [
    {
     "name": "stdout",
     "output_type": "stream",
     "text": [
      "Matriz triangular:  [[1.11, 0.2, 6], [0.0, 0.8198198198198199, -4.405405405405405], [0.0, 0.0, -0.9362637362637358]]\n",
      "Vetor b: [6.3, 1.0667567567567566, -2.678020196020195]\n",
      "Resolucao do sistema: [-12.78943028  16.67153597   2.86032674]\n"
     ]
    }
   ],
   "source": [
    "matrizQuestao4A = [[1.1, 0.2, 5],\n",
    "                   [1.11, 0.2, 6],\n",
    "                   [1, 1, 1]]\n",
    "\n",
    "matrizQuestao4Ab = [6.3, 7.31, 3]\n",
    "\n",
    "pivotamento = PivotamentoParcial(a=matrizQuestao4A, b=matrizQuestao4Ab)\n",
    "print(\"Matriz triangular: \", pivotamento.u)\n",
    "print(\"Vetor b:\", pivotamento.c)\n",
    "print(\"Resolucao do sistema:\", pivotamento.resolucao)"
   ]
  },
  {
   "cell_type": "markdown",
   "metadata": {},
   "source": [
    "### b. Método de Eliminação de Gauss sem pivotamento. "
   ]
  },
  {
   "cell_type": "code",
   "execution_count": 20,
   "metadata": {},
   "outputs": [
    {
     "name": "stdout",
     "output_type": "stream",
     "text": [
      "Matriz triangular:  [[1.1, 0.2, 5], [0.0, -0.0018181818181818021, 0.954545454545455], [0.0, 0.0, 426.0000000000039]]\n",
      "Vetor b:  [6.3, 0.9527272727272731, 426.00000000000387]\n",
      "Resolucao do sistema:  [1. 1. 1.]\n"
     ]
    }
   ],
   "source": [
    "matrizQuestao4B = [[1.1, 0.2, 5],\n",
    "                   [1.11, 0.2, 6],\n",
    "                   [1, 1, 1]]\n",
    "\n",
    "matrizQuestao4Bb = [6.3, 7.31, 3]\n",
    "\n",
    "gauss = EliminacaoGauss(a=matrizQuestao4B, b=matrizQuestao4Bb)\n",
    "print(\"Matriz triangular: \", gauss.u)\n",
    "print(\"Vetor b: \", gauss.c)\n",
    "print(\"Resolucao do sistema: \", gauss.resolucao)"
   ]
  },
  {
   "cell_type": "markdown",
   "metadata": {},
   "source": [
    "## 5. Resolver o sistema abaixo pelos métodos iterativos estudados (Método de Gauss-Jacobi e Método de Gauss-Seidel) considerando x (0) = (1; 1.5; 2) T com erro ≤ 0,05: \n"
   ]
  },
  {
   "cell_type": "markdown",
   "metadata": {},
   "source": [
    "![equa5](imgs/questao5.png)"
   ]
  },
  {
   "cell_type": "code",
   "execution_count": 56,
   "metadata": {},
   "outputs": [
    {
     "name": "stdout",
     "output_type": "stream",
     "text": [
      "Resolucao:  (array([1.50215704, 2.00167704, 0.500096  ]), 0.004314074074073915, 6)\n"
     ]
    }
   ],
   "source": [
    "matrizQuestao5A = [[3, 2, -1],\n",
    "                   [2, -4, 2],\n",
    "                   [-1, 1, 5]]\n",
    "\n",
    "matrizQuestao5Ab = [8, -4, 3]\n",
    "\n",
    "seidel = GaussSeidel(a=matrizQuestao5A, b=matrizQuestao5Ab, maxIter=20, erro=0.05, x0=[1, 1.5, 2])\n",
    "print(\"Resolucao: \", seidel.resolucao)\n",
    "#[x1, x2, x3] error, numero de iteração"
   ]
  },
  {
   "cell_type": "markdown",
   "metadata": {},
   "source": [
    "## 6. Seja o sistema linear"
   ]
  },
  {
   "cell_type": "markdown",
   "metadata": {},
   "source": [
    "![equa6](imgs/questao6.png)"
   ]
  },
  {
   "cell_type": "markdown",
   "metadata": {},
   "source": [
    "### a. E possível dizer se o Método de Jacobi é convergente para esse  sistema, usando o critério das linhas? "
   ]
  },
  {
   "cell_type": "code",
   "execution_count": 52,
   "metadata": {},
   "outputs": [
    {
     "name": "stdout",
     "output_type": "stream",
     "text": [
      "Não é convergente para esse sistema\n"
     ]
    }
   ],
   "source": [
    "matrizQuestao6A = [[1, 3, -1],\n",
    "                   [5, 2, 2],\n",
    "                   [0, 6, 8]]\n",
    "\n",
    "matrizQuestao6Ab = [-2, 3, -6]\n",
    "\n",
    "jacobi = Jacobi(a=matrizQuestao6A, b=matrizQuestao6Ab, maxIter=10, erro=0.001, x0=[3/5, -2/3, -3/4])\n",
    "\n",
    "if jacobi.converge:\n",
    "    print(\"Esse método converge para esse sistema\")\n",
    "else:\n",
    "    print(\"Não é convergente para esse sistema\")"
   ]
  },
  {
   "cell_type": "markdown",
   "metadata": {},
   "source": [
    "### b. Mostre que a aplicação do Método de Jacobi sobre o sistema  equivalente obtido pela permutação das duas primeiras equações, gera uma sequência convergente. Resolva este  sistema utilizando o Método de Jacobi com x0 = (3/5; −2/3; −3/4) e ε = 10−3."
   ]
  },
  {
   "cell_type": "code",
   "execution_count": 55,
   "metadata": {},
   "outputs": [
    {
     "name": "stdout",
     "output_type": "stream",
     "text": [
      "Esse método converge para esse sistema\n",
      "Resolucao:  (array([ 9.99946413e-01, -9.99931596e-01, -4.79289802e-04]), 0.0006567104338133234, 11)\n"
     ]
    }
   ],
   "source": [
    "matrizQuestao6B = [[5, 2, 2],\n",
    "                   [1, 3, -1],\n",
    "                   [0, 6, 8]]\n",
    "\n",
    "matrizQuestao6Bb = [3, -2, -6]\n",
    "\n",
    "jacobi = Jacobi(a=matrizQuestao6B, b=matrizQuestao6Bb, maxIter=10, erro=0.001, x0=[3/5, -2/3, -3/4])\n",
    "if jacobi.converge:\n",
    "    print(\"Esse método converge para esse sistema\")\n",
    "else:\n",
    "    print(\"Não é convergente para esse sistema\")\n",
    "    \n",
    "print(\"Resolucao: \", jacobi.resolucao)\n",
    "#[x1, x2, x3] error, num iteração"
   ]
  },
  {
   "cell_type": "markdown",
   "metadata": {},
   "source": [
    "## 7. Seja o sistema linear"
   ]
  },
  {
   "cell_type": "markdown",
   "metadata": {},
   "source": [
    "![equa7](imgs/questao7.png)"
   ]
  },
  {
   "cell_type": "markdown",
   "metadata": {},
   "source": [
    "### Resolver o sistema utilizando o Método de Gauss-Seidel com x0 = (0.7; −1.6; 0.6) e ε = 10−2 ."
   ]
  },
  {
   "cell_type": "code",
   "execution_count": 57,
   "metadata": {},
   "outputs": [
    {
     "name": "stdout",
     "output_type": "stream",
     "text": [
      "Resolucao:  (array([1.21053399, 0.039698  , 2.14865641]), 0.0027060802249035676, 6)\n"
     ]
    }
   ],
   "source": [
    "matrizQuestao7A = [[10, 1, -1],\n",
    "                   [2, 10, 8],\n",
    "                   [7, 1, 10]]\n",
    "\n",
    "matrizQuestao7Ab = [10, 20, 30]\n",
    "\n",
    "seidel = GaussSeidel(a=matrizQuestao7A, b=matrizQuestao7Ab, maxIter=20, erro=0.01, x0 = [0.7, -1.6, 0.6])\n",
    "print(\"Resolucao: \", seidel.resolucao)\n",
    "# saida  = [x1, x2, x3] error, numero de iteraçao"
   ]
  },
  {
   "cell_type": "markdown",
   "metadata": {},
   "source": [
    "## 8. Resolver o sistema abaixo através de um método direto e de um método iterativo de sua escolha. Indicar quais os métodos escolhidos.  Considerar x(0) = (0; 0; 0) com erro ≤ 0,05 para o método iterativo:"
   ]
  },
  {
   "cell_type": "markdown",
   "metadata": {},
   "source": [
    "![equa8](imgs/questao8.png)"
   ]
  },
  {
   "cell_type": "markdown",
   "metadata": {},
   "source": [
    " - metodo de Jacobi"
   ]
  },
  {
   "cell_type": "code",
   "execution_count": 58,
   "metadata": {},
   "outputs": [
    {
     "name": "stdout",
     "output_type": "stream",
     "text": [
      "Resolucao:  (array([ 1.01029745,  3.01752969, -1.98060116]), 0.046445698229313104, 18)\n"
     ]
    }
   ],
   "source": [
    "matrizQuestao8A = [[5, 1, 1],\n",
    "                   [3, 4, 1],\n",
    "                   [3, 3, 6]]\n",
    "\n",
    "matrizQuestao8Ab = [6, 13, 0]\n",
    "\n",
    "jacobi = Jacobi(a=matrizQuestao8A, b=matrizQuestao8Ab, maxIter=30, erro=0.05, x0=[6, 13, 0])\n",
    "print(\"Resolucao: \", jacobi.resolucao)\n",
    "# [x1, x2, x3] erro, numero de iteracao"
   ]
  },
  {
   "cell_type": "markdown",
   "metadata": {},
   "source": [
    " - metodo de gauss seidel"
   ]
  },
  {
   "cell_type": "code",
   "execution_count": 60,
   "metadata": {},
   "outputs": [
    {
     "name": "stdout",
     "output_type": "stream",
     "text": [
      "Resolucao:  (array([ 0.99395,  2.99935, -1.99665]), 0.044950000000000045, 4)\n"
     ]
    }
   ],
   "source": [
    "matrizQuestao8A = [[5, 1, 1],\n",
    "                   [3, 4, 1],\n",
    "                   [3, 3, 6]]\n",
    "\n",
    "matrizQuestao8Ab = [6, 13, 0]\n",
    "\n",
    "seidel = GaussSeidel(a=matrizQuestao8A, b=matrizQuestao8Ab, maxIter=30, erro=0.05, x0=[6, 13, 0])\n",
    "print(\"Resolucao: \", seidel.resolucao)\n",
    "# [x1, x2, x3] erro, numero de iteracao"
   ]
  }
 ],
 "metadata": {
  "interpreter": {
   "hash": "f3d1f5d30c21196c70f8c8258cabef989d2c9491e4a1af195aa9091f64f6d2e6"
  },
  "kernelspec": {
   "display_name": "Python 3",
   "language": "python",
   "name": "python3"
  },
  "language_info": {
   "codemirror_mode": {
    "name": "ipython",
    "version": 3
   },
   "file_extension": ".py",
   "mimetype": "text/x-python",
   "name": "python",
   "nbconvert_exporter": "python",
   "pygments_lexer": "ipython3",
   "version": "3.8.5"
  }
 },
 "nbformat": 4,
 "nbformat_minor": 2
}
