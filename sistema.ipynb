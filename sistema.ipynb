{
 "cells": [
  {
   "cell_type": "markdown",
   "source": [
    "# Algoritmo eleiminação gaussiana"
   ],
   "metadata": {}
  },
  {
   "cell_type": "code",
   "execution_count": 17,
   "source": [
    "def eliminacaoGauss(a, b):\r\n",
    "\r\n",
    "    #loop que percorre toda a matriz\r\n",
    "    for j in range(len(a) - 1):\r\n",
    "        for i in range(j + 1, len(a[j])):\r\n",
    "            # representação de mij = aij/ajj\r\n",
    "            m = a[i][j] / a[j][j]\r\n",
    "\r\n",
    "            # representação de bi = bi - mij bj\r\n",
    "            b[i] = b[i] - (m * b[j])\r\n",
    "\r\n",
    "            # representação de aik = aik - mij ajk\r\n",
    "            for k in range(j, len(a)):\r\n",
    "                a[i][k] = a[i][k] - (m * a[j][k])\r\n",
    "    \r\n",
    "    # retorna a matriz triangular com o vetor b, após\r\n",
    "    # o cálculo da eliminação de gauss\r\n",
    "    return a, b"
   ],
   "outputs": [],
   "metadata": {}
  },
  {
   "cell_type": "code",
   "execution_count": 18,
   "source": [
    "a = [[2, 2, 1, 1],\r\n",
    "    [1, -1, 2, -1],\r\n",
    "    [3, 2, -3, -2],\r\n",
    "    [4, 3, 2, 1]]\r\n",
    "\r\n",
    "b = [7, 1, 4, 12]\r\n",
    "\r\n",
    "u, c = eliminacaoGauss(a=a, b=b)\r\n",
    "print(u, c)"
   ],
   "outputs": [
    {
     "output_type": "stream",
     "name": "stdout",
     "text": [
      "[[2, 2, 1, 1], [0.0, -2.0, 1.5, -1.5], [0.0, 0.0, -5.25, -2.75], [0.0, 0.0, 0.0, 0.14285714285714285]] [7, -2.5, -5.25, 0.0]\n"
     ]
    }
   ],
   "metadata": {}
  },
  {
   "cell_type": "markdown",
   "source": [
    "### Algoritomo de substituição regressiva"
   ],
   "metadata": {}
  },
  {
   "cell_type": "code",
   "execution_count": 19,
   "source": [
    "import numpy as np\r\n",
    "\r\n",
    "def substituicaoRegressiva(u, c):\r\n",
    "    # define x com o mesmo tamnho do vetor c\r\n",
    "    x = np.zeros((len(c)))\r\n",
    "\r\n",
    "    # calculo da eliminação regressiva\r\n",
    "    for i in reversed(range(len(u))):\r\n",
    "        x[i] = c[i]\r\n",
    "        for j in range(i + 1, len(u[i])):\r\n",
    "            x[i] = x[i] - (u[i][j] * x[j])\r\n",
    "\r\n",
    "        x[i] = x[i]/u[i][i]\r\n",
    "\r\n",
    "    # retorna a solução do sistema no vetor,\r\n",
    "    # onde o índice i representa o xi\r\n",
    "    return x"
   ],
   "outputs": [],
   "metadata": {}
  },
  {
   "cell_type": "code",
   "execution_count": 20,
   "source": [
    "substituicaoRegressiva(u=u, c=c)"
   ],
   "outputs": [
    {
     "output_type": "execute_result",
     "data": {
      "text/plain": [
       "array([1., 2., 1., 0.])"
      ]
     },
     "metadata": {},
     "execution_count": 20
    }
   ],
   "metadata": {}
  },
  {
   "cell_type": "markdown",
   "source": [
    "# Pivotamento parcial"
   ],
   "metadata": {}
  },
  {
   "cell_type": "code",
   "execution_count": 21,
   "source": [
    "def permuteMax(a, col):\r\n",
    "    # pega o índice da coluna em que será feito o pivotamento\r\n",
    "    maxPivoIndex = col\r\n",
    "\r\n",
    "    # verifica qual o maior número do pivô\r\n",
    "    for pivo in range(col, len(a)):\r\n",
    "        if abs(a[pivo][col]) > abs(a[maxPivoIndex][col]):\r\n",
    "            maxPivoIndex = pivo\r\n",
    "            \r\n",
    "            print(\"{} > {}\".format(abs(a[pivo][col]), abs(a[maxPivoIndex][col])))\r\n",
    "\r\n",
    "    # fazendo a permutação\r\n",
    "    maxList = a[maxPivoIndex]\r\n",
    "    a[maxPivoIndex] = a[col]\r\n",
    "    a[col] = maxList\r\n",
    "\r\n",
    "    # retorna a matriz permutada\r\n",
    "    return a\r\n",
    "\r\n",
    "\r\n",
    "a = [[2, 2, 1, 1],\r\n",
    "    [1, -1, 2, -1],\r\n",
    "    [3, 2, -3, -2],\r\n",
    "    [4, 3, 2, 1]]\r\n",
    "\r\n",
    "print(a)\r\n",
    "for i in range(len(a) - 1):\r\n",
    "    print(permuteMax(a, i))"
   ],
   "outputs": [
    {
     "output_type": "stream",
     "name": "stdout",
     "text": [
      "[[2, 2, 1, 1], [1, -1, 2, -1], [3, 2, -3, -2], [4, 3, 2, 1]]\n",
      "3 > 3\n",
      "4 > 4\n",
      "[[4, 3, 2, 1], [1, -1, 2, -1], [3, 2, -3, -2], [2, 2, 1, 1]]\n",
      "2 > 2\n",
      "[[4, 3, 2, 1], [3, 2, -3, -2], [1, -1, 2, -1], [2, 2, 1, 1]]\n",
      "[[4, 3, 2, 1], [3, 2, -3, -2], [1, -1, 2, -1], [2, 2, 1, 1]]\n"
     ]
    }
   ],
   "metadata": {}
  },
  {
   "cell_type": "code",
   "execution_count": 22,
   "source": [
    "def pivotamentoParcial(a, b):\r\n",
    "    # percorrendo a matriz\r\n",
    "    for j in range(len(a)):\r\n",
    "\r\n",
    "        # usando a função anterior para fazer a permutação\r\n",
    "        a = permuteMax(a, j)\r\n",
    "\r\n",
    "        # aplicando mesmo método de eliminação de gaus,\r\n",
    "        # mas com a matriz permutada\r\n",
    "        for i in range(j + 1, len(a[j])):\r\n",
    "            m = a[i][j] / a[j][j]\r\n",
    "            b[i] = b[i] - (m * b[j])\r\n",
    "\r\n",
    "            for k in range(j, len(a)):\r\n",
    "                a[i][k] = a[i][k] - (m * a[j][k])\r\n",
    "\r\n",
    "    # retorn a matriz triangular e o vetor b,\r\n",
    "    # após o cálculo de pivotamento parcial\r\n",
    "    return a, b"
   ],
   "outputs": [],
   "metadata": {}
  },
  {
   "cell_type": "code",
   "execution_count": 23,
   "source": [
    "a = [[2, 2, 1, 1],\r\n",
    "    [1, -1, 2, -1],\r\n",
    "    [3, 2, -3, -2],\r\n",
    "    [4, 3, 2, 1]]\r\n",
    "\r\n",
    "b = [7, 1, 4, 12]\r\n",
    "\r\n",
    "u, c = pivotamentoParcial(a=a, b=b)\r\n",
    "u, c"
   ],
   "outputs": [
    {
     "output_type": "stream",
     "name": "stdout",
     "text": [
      "3 > 3\n",
      "4 > 4\n"
     ]
    },
    {
     "output_type": "execute_result",
     "data": {
      "text/plain": [
       "([[4, 3, 2, 1],\n",
       "  [0.0, -1.75, 1.5, -1.25],\n",
       "  [0.0, 0.0, -4.714285714285714, -2.5714285714285716],\n",
       "  [0.0, 0.0, 0.0, -0.09090909090909086]],\n",
       " [7, -0.75, -1.1428571428571428, 8.181818181818183])"
      ]
     },
     "metadata": {},
     "execution_count": 23
    }
   ],
   "metadata": {}
  },
  {
   "cell_type": "code",
   "execution_count": 24,
   "source": [
    "substituicaoRegressiva(u, c)"
   ],
   "outputs": [
    {
     "output_type": "execute_result",
     "data": {
      "text/plain": [
       "array([-80.66666667, 107.        ,  49.33333333, -90.        ])"
      ]
     },
     "metadata": {},
     "execution_count": 24
    }
   ],
   "metadata": {}
  },
  {
   "cell_type": "markdown",
   "source": [
    "# Metodo de Jacobi"
   ],
   "metadata": {}
  },
  {
   "cell_type": "code",
   "execution_count": 25,
   "source": [
    "import numpy as np"
   ],
   "outputs": [],
   "metadata": {}
  },
  {
   "cell_type": "code",
   "execution_count": 6,
   "source": [
    "def diag_m(matriz):\r\n",
    "    # lista que será armazenada a diagonal principal da matriz\r\n",
    "    d = []\r\n",
    "\r\n",
    "    # copia a matriz para ficar com os mesmo elementos da\r\n",
    "    # da matriz de entrada\r\n",
    "    m = np.array(matriz).copy()\r\n",
    "\r\n",
    "    # percorre a matriz\r\n",
    "    for i in range(len(matriz)):\r\n",
    "        for j in range(len(matriz[i])):\r\n",
    "            # verifica se não está na matriz principal\r\n",
    "            # caso não esteja, adiciona o elemento a matriz m\r\n",
    "            if i != j:\r\n",
    "                m[i][j] = matriz[i][j]\r\n",
    "\r\n",
    "            # caso seja da diagonal principal, appenda o valor\r\n",
    "            # a lista de d e remove da matriz m\r\n",
    "            else:\r\n",
    "                m[i][j] = 0\r\n",
    "                d.append(matriz[i][j])\r\n",
    "\r\n",
    "    # retorna a diagonal principal e matriz zerada a diagonal principal\r\n",
    "    return d, m"
   ],
   "outputs": [],
   "metadata": {}
  },
  {
   "cell_type": "code",
   "execution_count": 143,
   "source": [
    "a = [[2, 2, 1, 1],\r\n",
    "    [1, -1, 2, -1],\r\n",
    "    [3, 2, -3, -2],\r\n",
    "    [4, 3, 2, 1]]\r\n",
    "\r\n",
    "diag_m(a)"
   ],
   "outputs": [
    {
     "output_type": "execute_result",
     "data": {
      "text/plain": [
       "([2, -1, -3, 1],\n",
       " array([[ 0,  2,  1,  1],\n",
       "        [ 1,  0,  2, -1],\n",
       "        [ 3,  2,  0, -2],\n",
       "        [ 4,  3,  2,  0]]))"
      ]
     },
     "metadata": {},
     "execution_count": 143
    }
   ],
   "metadata": {}
  },
  {
   "cell_type": "code",
   "execution_count": 48,
   "source": [
    "def jacobi(a, b, maxIter, erro, x0):\r\n",
    "    k = 0\r\n",
    "    dr = erro + 1\r\n",
    "\r\n",
    "    # pegando a diagonal princiapal e a matriz zerada a diagonal principal\r\n",
    "    d, m = diag_m(a)\r\n",
    "\r\n",
    "    # criando o vetor do mesmo tamanho de x0 para fazer as operações\r\n",
    "    # e no final passar os valores para x0\r\n",
    "    x = np.zeros((len(x0)))\r\n",
    "\r\n",
    "    while k <= maxIter and dr > erro:\r\n",
    "        k += 1\r\n",
    "\r\n",
    "        for i in range(len(a)):\r\n",
    "            # print(\"{} * {}\".format(m[i], x0))\r\n",
    "            # representação do cálculo de Mx0\r\n",
    "            dx = m[i] * x0\r\n",
    "\r\n",
    "            # representação de x = (b - Mx0) / D, onde Mx0 = dx do cálculo anterior \r\n",
    "            x[i] = (b[i] - dx.sum()) / d[i]\r\n",
    "\r\n",
    "        # pegando o valor máximo do cálculo do erro de cada x\r\n",
    "        dr = np.array(abs(x - x0)).max()\r\n",
    "\r\n",
    "        # mostrando os valores de x e erro de cada iteração\r\n",
    "        print(x, dr)\r\n",
    "\r\n",
    "        # usando copy do numpy, pois somente passando x0 = x, o x0 estava pegando a referencia de x\r\n",
    "        x0 = np.array(x).copy()\r\n",
    "\r\n",
    "    # retorn o X da solução encontrada, o erro mínimo e o número de iteração\r\n",
    "    return x0, dr, k\r\n",
    "        "
   ],
   "outputs": [],
   "metadata": {}
  },
  {
   "cell_type": "code",
   "execution_count": 49,
   "source": [
    "a = [[10, 2, -1],\r\n",
    "     [1, 5, 1],\r\n",
    "     [2, 3, 10]]\r\n",
    "\r\n",
    "b = [7, -8, 6]\r\n",
    "\r\n",
    "x0 = [0, 0, 0]\r\n",
    "\r\n",
    "d, m = diag_m(a)\r\n",
    "\r\n",
    "jacobi(a=a, b=b, maxIter=10, erro=0.01, x0=x0)"
   ],
   "outputs": [
    {
     "output_type": "stream",
     "name": "stdout",
     "text": [
      "[ 0.7 -1.6  0.6] 1.6\n",
      "[ 1.08 -1.86  0.94] 0.3800000000000001\n",
      "[ 1.166 -2.004  0.942] 0.1439999999999999\n",
      "[ 1.195  -2.0216  0.968 ] 0.028999999999999915\n",
      "[ 1.20112 -2.0326   0.96748] 0.010999999999999677\n",
      "[ 1.203268 -2.03372   0.969556] 0.0021480000000000388\n"
     ]
    },
    {
     "output_type": "execute_result",
     "data": {
      "text/plain": [
       "(array([ 1.203268, -2.03372 ,  0.969556]), 0.0021480000000000388, 6)"
      ]
     },
     "metadata": {},
     "execution_count": 49
    }
   ],
   "metadata": {}
  },
  {
   "cell_type": "code",
   "execution_count": 50,
   "source": [
    "def gaussSidel(a, b, maxIter, erro, x0):\r\n",
    "    k = 0\r\n",
    "    dr = erro + 1\r\n",
    "\r\n",
    "    # pegando a diagonal princiapal e a matriz zerada a diagonal principal\r\n",
    "    d, m = diag_m(a)\r\n",
    "\r\n",
    "    # matriz do tamanho de x0, para receber os valores\r\n",
    "    x = np.zeros((len(x0)))\r\n",
    "\r\n",
    "    # pegando os elementos pelo for, pois passando somente x = x0 pegava referencia, \r\n",
    "    # assim como a função copy tando do numpy quanto nativa do python\r\n",
    "    for i in range(len(x0)):\r\n",
    "        x[i] = x0[i]\r\n",
    "\r\n",
    "    while k <= maxIter and dr > erro:\r\n",
    "        k += 1\r\n",
    "\r\n",
    "        for i in range(len(a)):\r\n",
    "            # print(\"{} * {}\".format(m[i], x0))\r\n",
    "            # representação do cálculo de Mx\r\n",
    "            dx = m[i] * x\r\n",
    "\r\n",
    "            # representação de x = (b - Mx0) / D, onde Mx = dx do cálculo anterior \r\n",
    "            x[i] = (b[i] - dx.sum()) / d[i]\r\n",
    "\r\n",
    "        # pegando o valor máximo do cálculo do erro de cada x\r\n",
    "        dr = np.array(abs(x - x0)).max()\r\n",
    "\r\n",
    "        # mostrando os valores de x e erro de cada iteração\r\n",
    "        print(x, dr)\r\n",
    "\r\n",
    "        # usando copy do numpy, pois somente passando x0 = x, o x0 estava pegando a referencia de x\r\n",
    "        x0 = np.array(x).copy()\r\n",
    "\r\n",
    "    # retorn o X da solução encontrada, o erro mínimo e o número de iteração\r\n",
    "    return x0, dr, k"
   ],
   "outputs": [],
   "metadata": {}
  },
  {
   "cell_type": "code",
   "execution_count": 51,
   "source": [
    "a = [[10, 2, -1],\r\n",
    "     [1, 5, 1],\r\n",
    "     [2, 3, 10]]\r\n",
    "\r\n",
    "b = [7, -8, 6]\r\n",
    "\r\n",
    "x0 = [0, 0, 0]\r\n",
    "\r\n",
    "gaussSidel(a=a, b=b, x0=x0, maxIter=10, erro=0.001)"
   ],
   "outputs": [
    {
     "output_type": "stream",
     "name": "stdout",
     "text": [
      "[ 0.7   -1.74   0.982] 1.7399999999999998\n",
      "[ 1.1462   -2.02564   0.978452] 0.44619999999999993\n",
      "[ 1.2029732  -2.03628504  0.97029087] 0.05677320000000008\n",
      "[ 1.2042861  -2.03491539  0.9696174 ] 0.0013696465600001595\n",
      "[ 1.20394482 -2.03471244  0.96962477] 0.0003412766127999234\n"
     ]
    },
    {
     "output_type": "execute_result",
     "data": {
      "text/plain": [
       "(array([ 1.20394482, -2.03471244,  0.96962477]), 0.0003412766127999234, 5)"
      ]
     },
     "metadata": {},
     "execution_count": 51
    }
   ],
   "metadata": {}
  }
 ],
 "metadata": {
  "orig_nbformat": 4,
  "language_info": {
   "name": "python",
   "version": "3.8.8",
   "mimetype": "text/x-python",
   "codemirror_mode": {
    "name": "ipython",
    "version": 3
   },
   "pygments_lexer": "ipython3",
   "nbconvert_exporter": "python",
   "file_extension": ".py"
  },
  "kernelspec": {
   "name": "python3",
   "display_name": "Python 3.8.8 64-bit ('base': conda)"
  },
  "interpreter": {
   "hash": "2fe8837ebdb742e2494079c0ea10c808bc34ff06d27aa413b3464559f2c1d91d"
  }
 },
 "nbformat": 4,
 "nbformat_minor": 2
}