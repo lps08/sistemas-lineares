{
 "cells": [
  {
   "cell_type": "markdown",
   "source": [
    "# Algoritmo eleiminação gaussiana"
   ],
   "metadata": {}
  },
  {
   "cell_type": "code",
   "execution_count": 59,
   "source": [
    "def eliminacaoGauss(a, b):\r\n",
    "    n = len(a)\r\n",
    "    for j in range(n - 1):\r\n",
    "        for i in range(j + 1, n):\r\n",
    "            m = a[i][j] / a[j][j]\r\n",
    "            b[i] = b[i] - (m * b[j])\r\n",
    "\r\n",
    "            for k in range(j, n):\r\n",
    "                a[i][k] = a[i][k] - (m * a[j][k])\r\n",
    "                \r\n",
    "    return a, b"
   ],
   "outputs": [],
   "metadata": {}
  },
  {
   "cell_type": "code",
   "execution_count": 60,
   "source": [
    "a = [[2, 2, 1, 1],\r\n",
    "    [1, -1, 2, -1],\r\n",
    "    [3, 2, -3, -2],\r\n",
    "    [4, 3, 2, 1]]\r\n",
    "\r\n",
    "b = [7, 1, 4, 12]\r\n",
    "\r\n",
    "u, c = eliminacaoGauss(a=a, b=b)\r\n",
    "print(u, c)"
   ],
   "outputs": [
    {
     "output_type": "stream",
     "name": "stdout",
     "text": [
      "[[2, 2, 1, 1], [0.0, -2.0, 1.5, -1.5], [0.0, 0.0, -5.25, -2.75], [0.0, 0.0, 0.0, 0.14285714285714285]] [7, -2.5, -5.25, 0.0]\n"
     ]
    }
   ],
   "metadata": {}
  },
  {
   "cell_type": "markdown",
   "source": [
    "### Algoritomo de substituição regressiva"
   ],
   "metadata": {}
  },
  {
   "cell_type": "code",
   "execution_count": 3,
   "source": [
    "import numpy as np\r\n",
    "\r\n",
    "def substituicaoRegressiva(u, c):\r\n",
    "    n = len(a)\r\n",
    "    x = np.zeros((n))\r\n",
    "\r\n",
    "    for i in reversed(range(n)):\r\n",
    "        x[i] = c[i]\r\n",
    "        for j in range(i + 1, n):\r\n",
    "            x[i] = x[i] - (u[i][j] * x[j])\r\n",
    "\r\n",
    "        x[i] = x[i]/u[i][i]\r\n",
    "\r\n",
    "    return x"
   ],
   "outputs": [],
   "metadata": {}
  },
  {
   "cell_type": "code",
   "execution_count": 4,
   "source": [
    "substituicaoRegressiva(u=u, c=c)"
   ],
   "outputs": [
    {
     "output_type": "execute_result",
     "data": {
      "text/plain": [
       "array([1., 2., 1., 0.])"
      ]
     },
     "metadata": {},
     "execution_count": 4
    }
   ],
   "metadata": {}
  },
  {
   "cell_type": "markdown",
   "source": [
    "# Pivotamento parcial"
   ],
   "metadata": {}
  },
  {
   "cell_type": "code",
   "execution_count": 44,
   "source": [
    "def permuteMax(a, col):\r\n",
    "    maxPivoIndex = col\r\n",
    "    for pivo in range(col, len(a)):\r\n",
    "        if abs(a[pivo][col]) > abs(a[maxPivoIndex][col]):\r\n",
    "            maxPivoIndex = pivo\r\n",
    "            \r\n",
    "            print(\"{} > {}\".format(abs(a[pivo][col]), abs(a[maxPivoIndex][col])))\r\n",
    "\r\n",
    "    maxList = a[maxPivoIndex]\r\n",
    "    a[maxPivoIndex] = a[col]\r\n",
    "    a[col] = maxList\r\n",
    "\r\n",
    "    return a\r\n",
    "\r\n",
    "\r\n",
    "a = [[2, 2, 1, 1],\r\n",
    "    [1, -1, 2, -1],\r\n",
    "    [3, 2, -3, -2],\r\n",
    "    [4, 3, 2, 1]]\r\n",
    "\r\n",
    "print(a)\r\n",
    "for i in range(len(a) - 1):\r\n",
    "    print(permuteMax(a, i))"
   ],
   "outputs": [
    {
     "output_type": "stream",
     "name": "stdout",
     "text": [
      "[[2, 2, 1, 1], [1, -1, 2, -1], [3, 2, -3, -2], [4, 3, 2, 1]]\n",
      "3 > 3\n",
      "4 > 4\n",
      "[[4, 3, 2, 1], [1, -1, 2, -1], [3, 2, -3, -2], [2, 2, 1, 1]]\n",
      "2 > 2\n",
      "[[4, 3, 2, 1], [3, 2, -3, -2], [1, -1, 2, -1], [2, 2, 1, 1]]\n",
      "[[4, 3, 2, 1], [3, 2, -3, -2], [1, -1, 2, -1], [2, 2, 1, 1]]\n"
     ]
    }
   ],
   "metadata": {}
  },
  {
   "cell_type": "code",
   "execution_count": 63,
   "source": [
    "def pivotamentoParcial(a, b):\r\n",
    "    n = len(a)\r\n",
    "\r\n",
    "    for j in range(n):\r\n",
    "\r\n",
    "        print(j)\r\n",
    "\r\n",
    "        print('original: ', a)\r\n",
    "\r\n",
    "        a = permuteMax(a, j)\r\n",
    "\r\n",
    "        print('permutado: ', a)\r\n",
    "\r\n",
    "        for i in range(j + 1, n):\r\n",
    "            m = a[i][j] / a[j][j]\r\n",
    "            b[i] = b[i] - (m * b[j])\r\n",
    "\r\n",
    "            for k in range(j, n):\r\n",
    "                a[i][k] = a[i][k] - (m * a[j][k])\r\n",
    "                \r\n",
    "    return a, b"
   ],
   "outputs": [],
   "metadata": {}
  },
  {
   "cell_type": "code",
   "execution_count": 64,
   "source": [
    "a = [[2, 2, 1, 1],\r\n",
    "    [1, -1, 2, -1],\r\n",
    "    [3, 2, -3, -2],\r\n",
    "    [4, 3, 2, 1]]\r\n",
    "\r\n",
    "b = [7, 1, 4, 12]\r\n",
    "\r\n",
    "u, c = pivotamentoParcial(a=a, b=b)"
   ],
   "outputs": [
    {
     "output_type": "stream",
     "name": "stdout",
     "text": [
      "0\n",
      "original:  [[2, 2, 1, 1], [1, -1, 2, -1], [3, 2, -3, -2], [4, 3, 2, 1]]\n",
      "3 > 3\n",
      "4 > 4\n",
      "permutado:  [[4, 3, 2, 1], [1, -1, 2, -1], [3, 2, -3, -2], [2, 2, 1, 1]]\n",
      "1\n",
      "original:  [[4, 3, 2, 1], [0.0, -1.75, 1.5, -1.25], [0.0, -0.25, -4.5, -2.75], [0.0, 0.5, 0.0, 0.5]]\n",
      "permutado:  [[4, 3, 2, 1], [0.0, -1.75, 1.5, -1.25], [0.0, -0.25, -4.5, -2.75], [0.0, 0.5, 0.0, 0.5]]\n",
      "2\n",
      "original:  [[4, 3, 2, 1], [0.0, -1.75, 1.5, -1.25], [0.0, 0.0, -4.714285714285714, -2.5714285714285716], [0.0, 0.0, 0.42857142857142855, 0.1428571428571429]]\n",
      "permutado:  [[4, 3, 2, 1], [0.0, -1.75, 1.5, -1.25], [0.0, 0.0, -4.714285714285714, -2.5714285714285716], [0.0, 0.0, 0.42857142857142855, 0.1428571428571429]]\n",
      "3\n",
      "original:  [[4, 3, 2, 1], [0.0, -1.75, 1.5, -1.25], [0.0, 0.0, -4.714285714285714, -2.5714285714285716], [0.0, 0.0, 0.0, -0.09090909090909086]]\n",
      "permutado:  [[4, 3, 2, 1], [0.0, -1.75, 1.5, -1.25], [0.0, 0.0, -4.714285714285714, -2.5714285714285716], [0.0, 0.0, 0.0, -0.09090909090909086]]\n"
     ]
    }
   ],
   "metadata": {}
  },
  {
   "cell_type": "code",
   "execution_count": 65,
   "source": [
    "substituicaoRegressiva(u, c)"
   ],
   "outputs": [
    {
     "output_type": "execute_result",
     "data": {
      "text/plain": [
       "array([-80.66666667, 107.        ,  49.33333333, -90.        ])"
      ]
     },
     "metadata": {},
     "execution_count": 65
    }
   ],
   "metadata": {}
  },
  {
   "cell_type": "code",
   "execution_count": null,
   "source": [],
   "outputs": [],
   "metadata": {}
  }
 ],
 "metadata": {
  "orig_nbformat": 4,
  "language_info": {
   "name": "python",
   "version": "3.8.8",
   "mimetype": "text/x-python",
   "codemirror_mode": {
    "name": "ipython",
    "version": 3
   },
   "pygments_lexer": "ipython3",
   "nbconvert_exporter": "python",
   "file_extension": ".py"
  },
  "kernelspec": {
   "name": "python3",
   "display_name": "Python 3.8.8 64-bit ('base': conda)"
  },
  "interpreter": {
   "hash": "2fe8837ebdb742e2494079c0ea10c808bc34ff06d27aa413b3464559f2c1d91d"
  }
 },
 "nbformat": 4,
 "nbformat_minor": 2
}