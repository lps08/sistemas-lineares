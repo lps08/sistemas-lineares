{
 "cells": [
  {
   "cell_type": "code",
   "execution_count": 3,
   "source": [
    "import numpy as np"
   ],
   "outputs": [],
   "metadata": {}
  },
  {
   "cell_type": "markdown",
   "source": [
    "# Algoritmo eliminação gaussiana"
   ],
   "metadata": {}
  },
  {
   "cell_type": "code",
   "execution_count": 49,
   "source": [
    "class EliminacaoGauss:\r\n",
    "    def __init__(self, a, b):\r\n",
    "        self.a = a\r\n",
    "        self.b = b\r\n",
    "        self.u, self.c = self.matrizTriangular()\r\n",
    "        self.resolucao = self.substituicaoRegressiva()\r\n",
    "\r\n",
    "    def matrizTriangular(self):\r\n",
    "        \"\"\" Função que faz o cálculo de eliminação de gaus.\r\n",
    "        a = matriz de entrada, b = vetor b. \"\"\"\r\n",
    "\r\n",
    "        #loop que percorre toda a matriz\r\n",
    "        for j in range(len(self.a) - 1):\r\n",
    "            for i in range(j + 1, len(self.a[j])):\r\n",
    "                # representação de mij = aij/ajj\r\n",
    "                m = self.a[i][j] / self.a[j][j]\r\n",
    "\r\n",
    "                # representação de bi = bi - mij bj\r\n",
    "                self.b[i] = self.b[i] - (m * self.b[j])\r\n",
    "\r\n",
    "                # representação de aik = aik - mij ajk\r\n",
    "                for k in range(j, len(self.a)):\r\n",
    "                    self.a[i][k] = self.a[i][k] - (m * self.a[j][k])\r\n",
    "        \r\n",
    "        # retorna a matriz triangular com o vetor b, após\r\n",
    "        # o cálculo da eliminação de gauss\r\n",
    "        return self.a, self.b\r\n",
    "\r\n",
    "    def substituicaoRegressiva(self):\r\n",
    "        \"\"\" Função que faz o cálculo da substituição regressiva.\r\n",
    "            u = matriz triangular, c = vetor b da saida da matriz\r\n",
    "            triangular. \"\"\"\r\n",
    "            \r\n",
    "        # define x com o mesmo tamnho do vetor c\r\n",
    "        x = np.zeros((len(self.c)))\r\n",
    "\r\n",
    "        # calculo da eliminação regressiva\r\n",
    "        for i in reversed(range(len(self.u))):\r\n",
    "            x[i] = self.c[i]\r\n",
    "            for j in range(i + 1, len(self.u[i])):\r\n",
    "                x[i] = x[i] - (self.u[i][j] * x[j])\r\n",
    "\r\n",
    "            x[i] = x[i]/self.u[i][i]\r\n",
    "\r\n",
    "        # retorna a solução do sistema no vetor,\r\n",
    "        # onde o índice i representa o xi\r\n",
    "        return x\r\n",
    "    "
   ],
   "outputs": [],
   "metadata": {}
  },
  {
   "cell_type": "markdown",
   "source": [
    "### Testes"
   ],
   "metadata": {}
  },
  {
   "cell_type": "code",
   "execution_count": 54,
   "source": [
    "a = [[2, 2, 1, 1],\r\n",
    "    [1, -1, 2, -1],\r\n",
    "    [3, 2, -3, -2],\r\n",
    "    [4, 3, 2, 1]]\r\n",
    "\r\n",
    "b = [7, 1, 4, 12]\r\n",
    "\r\n",
    "eli = EliminacaoGauss(a, b)\r\n",
    "print(eli.matrizTriangular())\r\n",
    "print(eli.substituicaoRegressiva())"
   ],
   "outputs": [
    {
     "output_type": "stream",
     "name": "stdout",
     "text": [
      "([[2, 2, 1, 1], [0.0, -2.0, 1.5, -1.5], [0.0, 0.0, -5.25, -2.75], [0.0, 0.0, 0.0, 0.14285714285714285]], [7, -2.5, -5.25, 0.0])\n",
      "[1. 2. 1. 0.]\n"
     ]
    }
   ],
   "metadata": {}
  },
  {
   "cell_type": "markdown",
   "source": [
    "# Algoritmo pivotamento parcial"
   ],
   "metadata": {}
  },
  {
   "cell_type": "code",
   "execution_count": 73,
   "source": [
    "class PivotamentoParcial:\r\n",
    "    def __init__(self, a, b):\r\n",
    "        self.a = a\r\n",
    "        self.b = b\r\n",
    "        self.u, self. c = self.matrizTriangular()\r\n",
    "        self.resolucao = self.substituicaoRegressiva()\r\n",
    "\r\n",
    "    def permuteMax(self, col):\r\n",
    "        \"\"\" Função responsável por fazer a permutação de uma determinada matriz\r\n",
    "            com pivo o máximo, dado o indice da coluna do pivo\r\n",
    "        \"\"\"\r\n",
    "        # pega o índice da coluna em que será feito o pivotamento\r\n",
    "        maxPivoIndex = col\r\n",
    "\r\n",
    "        # verifica qual o maior número do pivô\r\n",
    "        for pivo in range(col, len(self.a)):\r\n",
    "            if abs(self.a[pivo][col]) > abs(self.a[maxPivoIndex][col]):\r\n",
    "                maxPivoIndex = pivo\r\n",
    "                \r\n",
    "                # print(\"{} > {}\".format(abs(self.a[pivo][col]), abs(self.a[maxPivoIndex][col])))\r\n",
    "\r\n",
    "        # fazendo a permutação\r\n",
    "        maxList = self.a[maxPivoIndex]\r\n",
    "        self.a[maxPivoIndex] = self.a[col]\r\n",
    "        self.a[col] = maxList\r\n",
    "\r\n",
    "        # retorna a matriz permutada\r\n",
    "        return a\r\n",
    "\r\n",
    "    def matrizTriangular(self):\r\n",
    "        \"\"\" Função que calculo o pivotamento parcial, onde a = matriz e\r\n",
    "            b = vetor b \"\"\"\r\n",
    "        # percorrendo a matriz\r\n",
    "        for j in range(len(self.a)):\r\n",
    "\r\n",
    "            # usando a função anterior para fazer a permutação\r\n",
    "            a = self.permuteMax(j)\r\n",
    "\r\n",
    "            # aplicando mesmo método de eliminação de gaus,\r\n",
    "            # mas com a matriz permutada\r\n",
    "            for i in range(j + 1, len(self.a[j])):\r\n",
    "                m = self.a[i][j] / self.a[j][j]\r\n",
    "                self.b[i] = self.b[i] - (m * self.b[j])\r\n",
    "\r\n",
    "                for k in range(j, len(self.a)):\r\n",
    "                    self.a[i][k] = self.a[i][k] - (m * self.a[j][k])\r\n",
    "\r\n",
    "        # retorn a matriz triangular e o vetor b,\r\n",
    "        # após o cálculo de pivotamento parcial\r\n",
    "        return a, b\r\n",
    "\r\n",
    "    def substituicaoRegressiva(self):\r\n",
    "        \"\"\" Função que faz o cálculo da substituição regressiva.\r\n",
    "            u = matriz triangular, c = vetor b da saida da matriz\r\n",
    "            triangular. \"\"\"\r\n",
    "            \r\n",
    "        # define x com o mesmo tamnho do vetor c\r\n",
    "        x = np.zeros((len(self.c)))\r\n",
    "\r\n",
    "        # calculo da eliminação regressiva\r\n",
    "        for i in reversed(range(len(self.u))):\r\n",
    "            x[i] = self.c[i]\r\n",
    "            for j in range(i + 1, len(self.u[i])):\r\n",
    "                x[i] = x[i] - (self.u[i][j] * x[j])\r\n",
    "\r\n",
    "            x[i] = x[i]/self.u[i][i]\r\n",
    "\r\n",
    "        # retorna a solução do sistema no vetor,\r\n",
    "        # onde o índice i representa o xi\r\n",
    "        return x"
   ],
   "outputs": [],
   "metadata": {}
  },
  {
   "cell_type": "markdown",
   "source": [
    "### Testes"
   ],
   "metadata": {}
  },
  {
   "cell_type": "code",
   "execution_count": 74,
   "source": [
    "a = [[2, 2, 1, 1],\r\n",
    "    [1, -1, 2, -1],\r\n",
    "    [3, 2, -3, -2],\r\n",
    "    [4, 3, 2, 1]]\r\n",
    "\r\n",
    "b = [7, 1, 4, 12]\r\n",
    "\r\n",
    "pivo = PivotamentoParcial(a, b)\r\n",
    "pivo.resolucao"
   ],
   "outputs": [
    {
     "output_type": "execute_result",
     "data": {
      "text/plain": [
       "array([-80.66666667, 107.        ,  49.33333333, -90.        ])"
      ]
     },
     "metadata": {},
     "execution_count": 74
    }
   ],
   "metadata": {}
  },
  {
   "cell_type": "markdown",
   "source": [
    "# Algoritmo método de Jacobi"
   ],
   "metadata": {}
  },
  {
   "cell_type": "code",
   "execution_count": 25,
   "source": [
    "class Jacobi:\r\n",
    "    def __init__(self, a, b, maxIter, erro, x0):\r\n",
    "        self.a = a\r\n",
    "        self.b = b\r\n",
    "        self.maxIter = maxIter\r\n",
    "        self.erro = erro\r\n",
    "        self.x0 = x0\r\n",
    "        \r\n",
    "        # pegando a diagonal princiapal e a matriz zerada a diagonal principal\r\n",
    "        self.d, self.m = self.diag_m()\r\n",
    "\r\n",
    "        self.resolucao = self.jacobi()\r\n",
    "\r\n",
    "    def diag_m(self):\r\n",
    "        \"\"\" Função que retorna a diagonal principal e a matriz com a\r\n",
    "            diagonal princial zerada. \"\"\"\r\n",
    "        # lista que será armazenada a diagonal principal da matriz\r\n",
    "        d = []\r\n",
    "\r\n",
    "        # copia a matriz para ficar com os mesmo elementos da\r\n",
    "        # da matriz de entrada\r\n",
    "        m = np.array(self.a).copy()\r\n",
    "\r\n",
    "        # percorre a matriz\r\n",
    "        for i in range(len(self.a)):\r\n",
    "            for j in range(len(self.a[i])):\r\n",
    "                # verifica se não está na matriz principal\r\n",
    "                # caso não esteja, adiciona o elemento a matriz m\r\n",
    "                if i != j:\r\n",
    "                    m[i][j] = self.a[i][j]\r\n",
    "\r\n",
    "                # caso seja da diagonal principal, appenda o valor\r\n",
    "                # a lista de d e remove da matriz m\r\n",
    "                else:\r\n",
    "                    m[i][j] = 0\r\n",
    "                    d.append(self.a[i][j])\r\n",
    "\r\n",
    "        # retorna a diagonal principal e matriz zerada a diagonal principal\r\n",
    "        return d, m\r\n",
    "\r\n",
    "    def jacobi(self):\r\n",
    "        \"\"\" Função que usa o método de jacobi para a resolução de um sistema\r\n",
    "            linear. \r\n",
    "            a = matriz; b = vetor b; maxIter = máximo de iteração; erro = o erro\r\n",
    "            a ser atingido como condição de parada; x0 = lista de valores para cada\r\n",
    "            x. \"\"\"\r\n",
    "            \r\n",
    "        k = 0\r\n",
    "        dr = self.erro + 1\r\n",
    "\r\n",
    "        # criando o vetor do mesmo tamanho de x0 para fazer as operações\r\n",
    "        # e no final passar os valores para x0\r\n",
    "        x = np.zeros((len(self.x0)))\r\n",
    "\r\n",
    "        while k <= self.maxIter and dr > self.erro:\r\n",
    "            k += 1\r\n",
    "\r\n",
    "            for i in range(len(self.a)):\r\n",
    "                # print(\"{} * {}\".format(m[i], x0))\r\n",
    "                # representação do cálculo de Mx0\r\n",
    "                dx = self.m[i] * self.x0\r\n",
    "\r\n",
    "                # representação de x = (b - Mx0) / D, onde Mx0 = dx do cálculo anterior \r\n",
    "                x[i] = (self.b[i] - dx.sum()) / self.d[i]\r\n",
    "\r\n",
    "            # pegando o valor máximo do cálculo do erro de cada x\r\n",
    "            dr = np.array(abs(x - self.x0)).max()\r\n",
    "\r\n",
    "            # mostrando os valores de x e erro de cada iteração\r\n",
    "            print(x, dr)\r\n",
    "\r\n",
    "            # usando copy do numpy, pois somente passando x0 = x, o x0 estava pegando a referencia de x\r\n",
    "            self.x0 = np.array(x).copy()\r\n",
    "\r\n",
    "        # retorn o X da solução encontrada, o erro mínimo e o número de iteração\r\n",
    "        return self.x0, dr, k"
   ],
   "outputs": [],
   "metadata": {}
  },
  {
   "cell_type": "markdown",
   "source": [
    "### Testes"
   ],
   "metadata": {}
  },
  {
   "cell_type": "code",
   "execution_count": 26,
   "source": [
    "a = [[10, 2, -1],\r\n",
    "     [1, 5, 1],\r\n",
    "     [2, 3, 10]]\r\n",
    "\r\n",
    "b = [7, -8, 6]\r\n",
    "\r\n",
    "x0 = [0, 0, 0]\r\n",
    "\r\n",
    "jacobi = Jacobi(a=a, b=b, maxIter=10, erro=0.01, x0=x0)\r\n",
    "jacobi.resolucao"
   ],
   "outputs": [
    {
     "output_type": "stream",
     "name": "stdout",
     "text": [
      "[ 0.7 -1.6  0.6] 1.6\n",
      "[ 1.08 -1.86  0.94] 0.3800000000000001\n",
      "[ 1.166 -2.004  0.942] 0.1439999999999999\n",
      "[ 1.195  -2.0216  0.968 ] 0.028999999999999915\n",
      "[ 1.20112 -2.0326   0.96748] 0.010999999999999677\n",
      "[ 1.203268 -2.03372   0.969556] 0.0021480000000000388\n"
     ]
    },
    {
     "output_type": "execute_result",
     "data": {
      "text/plain": [
       "(array([ 1.203268, -2.03372 ,  0.969556]), 0.0021480000000000388, 6)"
      ]
     },
     "metadata": {},
     "execution_count": 26
    }
   ],
   "metadata": {}
  },
  {
   "cell_type": "markdown",
   "source": [
    "# Algoritmo método Gauss Seidel"
   ],
   "metadata": {}
  },
  {
   "cell_type": "code",
   "execution_count": 33,
   "source": [
    "class GaussSeidel:\r\n",
    "    def __init__(self, a, b, maxIter, erro, x0):\r\n",
    "        self.a = a\r\n",
    "        self.b = b\r\n",
    "        self.maxIter = maxIter\r\n",
    "        self.erro = erro\r\n",
    "        self.x0 = x0\r\n",
    "        \r\n",
    "        # pegando a diagonal princiapal e a matriz zerada a diagonal principal\r\n",
    "        self.d, self.m = self.diag_m()\r\n",
    "\r\n",
    "        self.resolucao = self.gaussSeidel()\r\n",
    "\r\n",
    "    def diag_m(self):\r\n",
    "        \"\"\" Função que retorna a diagonal principal e a matriz com a\r\n",
    "            diagonal princial zerada. \"\"\"\r\n",
    "        # lista que será armazenada a diagonal principal da matriz\r\n",
    "        d = []\r\n",
    "\r\n",
    "        # copia a matriz para ficar com os mesmo elementos da\r\n",
    "        # da matriz de entrada\r\n",
    "        m = np.array(self.a).copy()\r\n",
    "\r\n",
    "        # percorre a matriz\r\n",
    "        for i in range(len(self.a)):\r\n",
    "            for j in range(len(self.a[i])):\r\n",
    "                # verifica se não está na matriz principal\r\n",
    "                # caso não esteja, adiciona o elemento a matriz m\r\n",
    "                if i != j:\r\n",
    "                    m[i][j] = self.a[i][j]\r\n",
    "\r\n",
    "                # caso seja da diagonal principal, appenda o valor\r\n",
    "                # a lista de d e remove da matriz m\r\n",
    "                else:\r\n",
    "                    m[i][j] = 0\r\n",
    "                    d.append(self.a[i][j])\r\n",
    "\r\n",
    "        # retorna a diagonal principal e matriz zerada a diagonal principal\r\n",
    "        return d, m\r\n",
    "\r\n",
    "    def gaussSeidel(self):\r\n",
    "        \"\"\" Cálculo do método de gauss-seidel para a resolução de um\r\n",
    "            sistema linear. \r\n",
    "            a = matriz; b = vetor b; maxIter = máximo\r\n",
    "            de iterações; erro = erro a ser atingido como método de parada;\r\n",
    "            x0 = valores iniciais de x.\"\"\"\r\n",
    "\r\n",
    "        k = 0\r\n",
    "        dr = self.erro + 1\r\n",
    "\r\n",
    "        # matriz do tamanho de x0, para receber os valores\r\n",
    "        x = np.zeros((len(self.x0)))\r\n",
    "\r\n",
    "        # pegando os elementos pelo for, pois passando somente x = x0 pegava referencia, \r\n",
    "        # assim como a função copy tando do numpy quanto nativa do python\r\n",
    "        for i in range(len(self.x0)):\r\n",
    "            x[i] = self.x0[i]\r\n",
    "\r\n",
    "        while k <= self.maxIter and dr > self.erro:\r\n",
    "            k += 1\r\n",
    "\r\n",
    "            for i in range(len(a)):\r\n",
    "                # print(\"{} * {}\".format(m[i], x0))\r\n",
    "                # representação do cálculo de Mx\r\n",
    "                dx = self.m[i] * x\r\n",
    "\r\n",
    "                # representação de x = (b - Mx0) / D, onde Mx = dx do cálculo anterior \r\n",
    "                x[i] = (self.b[i] - dx.sum()) / self.d[i]\r\n",
    "\r\n",
    "            # pegando o valor máximo do cálculo do erro de cada x\r\n",
    "            dr = np.array(abs(x - self.x0)).max()\r\n",
    "\r\n",
    "            # mostrando os valores de x e erro de cada iteração\r\n",
    "            print(x, dr)\r\n",
    "\r\n",
    "            # usando copy do numpy, pois somente passando x0 = x, o x0 estava pegando a referencia de x\r\n",
    "            self.x0 = np.array(x).copy()\r\n",
    "\r\n",
    "        # retorn o X da solução encontrada, o erro mínimo e o número de iteração\r\n",
    "        return self.x0, dr, k\r\n",
    "    "
   ],
   "outputs": [],
   "metadata": {}
  },
  {
   "cell_type": "markdown",
   "source": [
    "### Testes"
   ],
   "metadata": {}
  },
  {
   "cell_type": "code",
   "execution_count": 37,
   "source": [
    "a = [[10, 2, -1],\r\n",
    "     [1, 5, 1],\r\n",
    "     [2, 3, 10]]\r\n",
    "\r\n",
    "b = [7, -8, 6]\r\n",
    "\r\n",
    "x0 = [0, 0, 0]\r\n",
    "\r\n",
    "seidel = GaussSeidel(a=a, b=b, maxIter=10, erro=0.001, x0=x0)\r\n",
    "seidel.resolucao"
   ],
   "outputs": [
    {
     "output_type": "stream",
     "name": "stdout",
     "text": [
      "[ 0.7   -1.74   0.982] 1.7399999999999998\n",
      "[ 1.1462   -2.02564   0.978452] 0.44619999999999993\n",
      "[ 1.2029732  -2.03628504  0.97029087] 0.05677320000000008\n",
      "[ 1.2042861  -2.03491539  0.9696174 ] 0.0013696465600001595\n",
      "[ 1.20394482 -2.03471244  0.96962477] 0.0003412766127999234\n"
     ]
    },
    {
     "output_type": "execute_result",
     "data": {
      "text/plain": [
       "(array([ 1.20394482, -2.03471244,  0.96962477]), 0.0003412766127999234, 5)"
      ]
     },
     "metadata": {},
     "execution_count": 37
    }
   ],
   "metadata": {}
  },
  {
   "cell_type": "markdown",
   "source": [
    "# Atividade EPC-1"
   ],
   "metadata": {}
  },
  {
   "cell_type": "markdown",
   "source": [
    "## 1. Resolva o sistema linear abaixo utilizando o método da eliminação de  Gauss: "
   ],
   "metadata": {}
  },
  {
   "cell_type": "code",
   "execution_count": 30,
   "source": [
    "a = [[2, 2, 1, 1],\r\n",
    "     [1, -1, 2, -1],\r\n",
    "     [3, 2, -3, -2],\r\n",
    "     [4, 3, 2, 1]]\r\n",
    "\r\n",
    "b = [7, 1, 4, 12]\r\n",
    "\r\n",
    "eliminacaoGauss(a=a, b=b)"
   ],
   "outputs": [
    {
     "output_type": "execute_result",
     "data": {
      "text/plain": [
       "([[2, 2, 1, 1],\n",
       "  [0.0, -2.0, 1.5, -1.5],\n",
       "  [0.0, 0.0, -5.25, -2.75],\n",
       "  [0.0, 0.0, 0.0, 0.14285714285714285]],\n",
       " [7, -2.5, -5.25, 0.0])"
      ]
     },
     "metadata": {},
     "execution_count": 30
    }
   ],
   "metadata": {}
  }
 ],
 "metadata": {
  "orig_nbformat": 4,
  "language_info": {
   "name": "python",
   "version": "3.8.8",
   "mimetype": "text/x-python",
   "codemirror_mode": {
    "name": "ipython",
    "version": 3
   },
   "pygments_lexer": "ipython3",
   "nbconvert_exporter": "python",
   "file_extension": ".py"
  },
  "kernelspec": {
   "name": "python3",
   "display_name": "Python 3.8.8 64-bit ('base': conda)"
  },
  "interpreter": {
   "hash": "2fe8837ebdb742e2494079c0ea10c808bc34ff06d27aa413b3464559f2c1d91d"
  }
 },
 "nbformat": 4,
 "nbformat_minor": 2
}