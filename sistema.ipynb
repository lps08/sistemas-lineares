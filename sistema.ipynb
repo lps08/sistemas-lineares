{
 "cells": [
  {
   "cell_type": "markdown",
   "source": [
    "# Algoritmo eleiminação gaussiana"
   ],
   "metadata": {}
  },
  {
   "cell_type": "code",
   "execution_count": 1,
   "source": [
    "def eliminacaoGauss(a, b):\r\n",
    "    n = len(a)\r\n",
    "    for j in range(n - 1):\r\n",
    "        for i in range(j + 1, n):\r\n",
    "            m = a[i][j] / a[j][j]\r\n",
    "            b[i] = b[i] - (m * b[j])\r\n",
    "\r\n",
    "            for k in range(j, n):\r\n",
    "                a[i][k] = a[i][k] - (m * a[j][k])\r\n",
    "                \r\n",
    "    return a, b"
   ],
   "outputs": [],
   "metadata": {}
  },
  {
   "cell_type": "code",
   "execution_count": 2,
   "source": [
    "a = [[2, 2, 1, 1],\r\n",
    "    [1, -1, 2, -1],\r\n",
    "    [3, 2, -3, -2],\r\n",
    "    [4, 3, 2, 1]]\r\n",
    "\r\n",
    "b = [7, 1, 4, 12]\r\n",
    "\r\n",
    "u, c = eliminacaoGauss(a=a, b=b)\r\n",
    "print(u, c)"
   ],
   "outputs": [
    {
     "output_type": "stream",
     "name": "stdout",
     "text": [
      "[[2, 2, 1, 1], [0.0, -2.0, 1.5, -1.5], [0.0, 0.0, -5.25, -2.75], [0.0, 0.0, 0.0, 0.14285714285714285]] [7, -2.5, -5.25, 0.0]\n"
     ]
    }
   ],
   "metadata": {}
  },
  {
   "cell_type": "markdown",
   "source": [
    "### Algoritomo de substituição regressiva"
   ],
   "metadata": {}
  },
  {
   "cell_type": "code",
   "execution_count": 3,
   "source": [
    "import numpy as np\r\n",
    "\r\n",
    "def substituicaoRegressiva(u, c):\r\n",
    "    n = len(a)\r\n",
    "    x = np.zeros((n))\r\n",
    "\r\n",
    "    for i in reversed(range(n)):\r\n",
    "        x[i] = c[i]\r\n",
    "        for j in range(i + 1, n):\r\n",
    "            x[i] = x[i] - (u[i][j] * x[j])\r\n",
    "\r\n",
    "        x[i] = x[i]/u[i][i]\r\n",
    "\r\n",
    "    return x"
   ],
   "outputs": [],
   "metadata": {}
  },
  {
   "cell_type": "code",
   "execution_count": 4,
   "source": [
    "substituicaoRegressiva(u=u, c=c)"
   ],
   "outputs": [
    {
     "output_type": "execute_result",
     "data": {
      "text/plain": [
       "array([1., 2., 1., 0.])"
      ]
     },
     "metadata": {},
     "execution_count": 4
    }
   ],
   "metadata": {}
  },
  {
   "cell_type": "markdown",
   "source": [
    "# Pivotamento parcial"
   ],
   "metadata": {}
  },
  {
   "cell_type": "code",
   "execution_count": 5,
   "source": [
    "def permuteMax(a, col):\r\n",
    "    maxPivoIndex = col\r\n",
    "    for pivo in range(col, len(a)):\r\n",
    "        if abs(a[pivo][col]) > abs(a[maxPivoIndex][col]):\r\n",
    "            maxPivoIndex = pivo\r\n",
    "            \r\n",
    "            print(\"{} > {}\".format(abs(a[pivo][col]), abs(a[maxPivoIndex][col])))\r\n",
    "\r\n",
    "    maxList = a[maxPivoIndex]\r\n",
    "    a[maxPivoIndex] = a[col]\r\n",
    "    a[col] = maxList\r\n",
    "\r\n",
    "    return a\r\n",
    "\r\n",
    "\r\n",
    "a = [[2, 2, 1, 1],\r\n",
    "    [1, -1, 2, -1],\r\n",
    "    [3, 2, -3, -2],\r\n",
    "    [4, 3, 2, 1]]\r\n",
    "\r\n",
    "print(a)\r\n",
    "for i in range(len(a) - 1):\r\n",
    "    print(permuteMax(a, i))"
   ],
   "outputs": [
    {
     "output_type": "stream",
     "name": "stdout",
     "text": [
      "[[2, 2, 1, 1], [1, -1, 2, -1], [3, 2, -3, -2], [4, 3, 2, 1]]\n",
      "3 > 3\n",
      "4 > 4\n",
      "[[4, 3, 2, 1], [1, -1, 2, -1], [3, 2, -3, -2], [2, 2, 1, 1]]\n",
      "2 > 2\n",
      "[[4, 3, 2, 1], [3, 2, -3, -2], [1, -1, 2, -1], [2, 2, 1, 1]]\n",
      "[[4, 3, 2, 1], [3, 2, -3, -2], [1, -1, 2, -1], [2, 2, 1, 1]]\n"
     ]
    }
   ],
   "metadata": {}
  },
  {
   "cell_type": "code",
   "execution_count": 6,
   "source": [
    "def pivotamentoParcial(a, b):\r\n",
    "    n = len(a)\r\n",
    "\r\n",
    "    for j in range(n):\r\n",
    "\r\n",
    "        a = permuteMax(a, j)\r\n",
    "\r\n",
    "        for i in range(j + 1, n):\r\n",
    "            m = a[i][j] / a[j][j]\r\n",
    "            b[i] = b[i] - (m * b[j])\r\n",
    "\r\n",
    "            for k in range(j, n):\r\n",
    "                a[i][k] = a[i][k] - (m * a[j][k])\r\n",
    "                \r\n",
    "    return a, b"
   ],
   "outputs": [],
   "metadata": {}
  },
  {
   "cell_type": "code",
   "execution_count": 7,
   "source": [
    "a = [[2, 2, 1, 1],\r\n",
    "    [1, -1, 2, -1],\r\n",
    "    [3, 2, -3, -2],\r\n",
    "    [4, 3, 2, 1]]\r\n",
    "\r\n",
    "b = [7, 1, 4, 12]\r\n",
    "\r\n",
    "u, c = pivotamentoParcial(a=a, b=b)"
   ],
   "outputs": [
    {
     "output_type": "stream",
     "name": "stdout",
     "text": [
      "3 > 3\n",
      "4 > 4\n"
     ]
    }
   ],
   "metadata": {}
  },
  {
   "cell_type": "code",
   "execution_count": 8,
   "source": [
    "substituicaoRegressiva(u, c)"
   ],
   "outputs": [
    {
     "output_type": "execute_result",
     "data": {
      "text/plain": [
       "array([-80.66666667, 107.        ,  49.33333333, -90.        ])"
      ]
     },
     "metadata": {},
     "execution_count": 8
    }
   ],
   "metadata": {}
  },
  {
   "cell_type": "markdown",
   "source": [
    "# Metodo de Jacobi"
   ],
   "metadata": {}
  },
  {
   "cell_type": "code",
   "execution_count": 3,
   "source": [
    "import numpy as np"
   ],
   "outputs": [],
   "metadata": {}
  },
  {
   "cell_type": "code",
   "execution_count": 142,
   "source": [
    "def diag_m(matriz):\r\n",
    "    d = []\r\n",
    "    m = np.array(matriz).copy()\r\n",
    "    for i in range(len(matriz)):\r\n",
    "        for j in range(len(matriz[i])):\r\n",
    "            if i != j:\r\n",
    "                m[i][j] = matriz[i][j]\r\n",
    "            else:\r\n",
    "                m[i][j] = 0\r\n",
    "                d.append(matriz[i][j])\r\n",
    "    return d, m"
   ],
   "outputs": [],
   "metadata": {}
  },
  {
   "cell_type": "code",
   "execution_count": 143,
   "source": [
    "a = [[2, 2, 1, 1],\r\n",
    "    [1, -1, 2, -1],\r\n",
    "    [3, 2, -3, -2],\r\n",
    "    [4, 3, 2, 1]]\r\n",
    "\r\n",
    "diag_m(a)"
   ],
   "outputs": [
    {
     "output_type": "execute_result",
     "data": {
      "text/plain": [
       "([2, -1, -3, 1],\n",
       " array([[ 0,  2,  1,  1],\n",
       "        [ 1,  0,  2, -1],\n",
       "        [ 3,  2,  0, -2],\n",
       "        [ 4,  3,  2,  0]]))"
      ]
     },
     "metadata": {},
     "execution_count": 143
    }
   ],
   "metadata": {}
  },
  {
   "cell_type": "code",
   "execution_count": 192,
   "source": [
    "def jacobi(a, b, maxIter, erro, x0):\r\n",
    "    k = 0\r\n",
    "    dr = erro + 1\r\n",
    "\r\n",
    "    # pegando a diagonal princiapal e a matriz zerada a diagonal principal\r\n",
    "    d, m = diag_m(a)\r\n",
    "\r\n",
    "    # criando o vetor do mesmo tamanho de x0 para fazer as operações\r\n",
    "    # e no final passar os valores para x0\r\n",
    "    x = np.zeros((len(x0)))\r\n",
    "\r\n",
    "    while k <= maxIter and dr > erro:\r\n",
    "        k += 1\r\n",
    "\r\n",
    "        for i in range(len(a)):\r\n",
    "            # print(\"{} * {}\".format(m[i], x0))\r\n",
    "            dx = m[i] * x0\r\n",
    "     \r\n",
    "            x[i] = (b[i] - dx.sum()) / d[i]\r\n",
    "\r\n",
    "        dr = np.array(abs(x - x0)).max()\r\n",
    "\r\n",
    "        print(x, dr)\r\n",
    "\r\n",
    "        # usando copy do numpy, pois somente passando x0 = x, o x0 estava pegando a referencia de x\r\n",
    "        x0 = np.array(x).copy()\r\n",
    "\r\n",
    "    return x0, dr\r\n",
    "        "
   ],
   "outputs": [],
   "metadata": {}
  },
  {
   "cell_type": "code",
   "execution_count": 193,
   "source": [
    "a = [[10, 2, -1],\r\n",
    "     [1, 5, 1],\r\n",
    "     [2, 3, 10]]\r\n",
    "\r\n",
    "b = [7, -8, 6]\r\n",
    "\r\n",
    "x0 = [0, 0, 0]\r\n",
    "\r\n",
    "d, m = diag_m(a)\r\n",
    "\r\n",
    "jacobi(a=a, b=b, maxIter=10, erro=0.01, x0=x0)"
   ],
   "outputs": [
    {
     "output_type": "stream",
     "name": "stdout",
     "text": [
      "[ 0.7 -1.6  0.6] 1.6\n",
      "[ 1.08 -1.86  0.94] 0.3800000000000001\n",
      "[ 1.166 -2.004  0.942] 0.1439999999999999\n",
      "[ 1.195  -2.0216  0.968 ] 0.028999999999999915\n",
      "[ 1.20112 -2.0326   0.96748] 0.010999999999999677\n",
      "[ 1.203268 -2.03372   0.969556] 0.0021480000000000388\n"
     ]
    },
    {
     "output_type": "execute_result",
     "data": {
      "text/plain": [
       "(array([ 1.203268, -2.03372 ,  0.969556]), 0.0021480000000000388)"
      ]
     },
     "metadata": {},
     "execution_count": 193
    }
   ],
   "metadata": {}
  }
 ],
 "metadata": {
  "orig_nbformat": 4,
  "language_info": {
   "name": "python",
   "version": "3.8.8",
   "mimetype": "text/x-python",
   "codemirror_mode": {
    "name": "ipython",
    "version": 3
   },
   "pygments_lexer": "ipython3",
   "nbconvert_exporter": "python",
   "file_extension": ".py"
  },
  "kernelspec": {
   "name": "python3",
   "display_name": "Python 3.8.8 64-bit ('base': conda)"
  },
  "interpreter": {
   "hash": "2fe8837ebdb742e2494079c0ea10c808bc34ff06d27aa413b3464559f2c1d91d"
  }
 },
 "nbformat": 4,
 "nbformat_minor": 2
}