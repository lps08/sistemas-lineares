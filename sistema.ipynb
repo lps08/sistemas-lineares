{
 "cells": [
  {
   "cell_type": "markdown",
   "source": [
    "# Algoritmo eleiminação gaussiana"
   ],
   "metadata": {}
  },
  {
   "cell_type": "code",
   "execution_count": 2,
   "source": [
    "def eliminacaoGauss(a, b):\r\n",
    "    n = len(a)\r\n",
    "    for j in range(n - 1):\r\n",
    "        for i in range(j + 1, n):\r\n",
    "            m = a[i][j] / a[j][j]\r\n",
    "            b[i] = b[i] - (m * b[j])\r\n",
    "\r\n",
    "            for k in range(j, n):\r\n",
    "                a[i][k] = a[i][k] - (m * a[j][k])\r\n",
    "                \r\n",
    "    return a, b"
   ],
   "outputs": [],
   "metadata": {}
  },
  {
   "cell_type": "code",
   "execution_count": 3,
   "source": [
    "a = [[2, 2, 1, 1],\r\n",
    "    [1, -1, 2, -1],\r\n",
    "    [3, 2, -3, -2],\r\n",
    "    [4, 3, 2, 1]]\r\n",
    "\r\n",
    "b = [7, 1, 4, 12]\r\n",
    "\r\n",
    "u, c = eliminacaoGauss(a=a, b=b)\r\n",
    "print(u, c)"
   ],
   "outputs": [
    {
     "output_type": "stream",
     "name": "stdout",
     "text": [
      "[[2, 2, 1, 1], [0.0, -2.0, 1.5, -1.5], [0.0, 0.0, -5.25, -2.75], [0.0, 0.0, 0.0, 0.14285714285714285]] [7, -2.5, -5.25, 0.0]\n"
     ]
    }
   ],
   "metadata": {}
  },
  {
   "cell_type": "markdown",
   "source": [
    "### Algoritomo de substituição regressiva"
   ],
   "metadata": {}
  },
  {
   "cell_type": "code",
   "execution_count": 4,
   "source": [
    "import numpy as np\r\n",
    "\r\n",
    "def substituicaoRegressiva(u, c):\r\n",
    "    n = len(a)\r\n",
    "    x = np.zeros((n))\r\n",
    "\r\n",
    "    for i in reversed(range(n)):\r\n",
    "        x[i] = c[i]\r\n",
    "        for j in range(i + 1, n):\r\n",
    "            x[i] = x[i] - (u[i][j] * x[j])\r\n",
    "\r\n",
    "        x[i] = x[i]/u[i][i]\r\n",
    "\r\n",
    "    return x"
   ],
   "outputs": [],
   "metadata": {}
  },
  {
   "cell_type": "code",
   "execution_count": 13,
   "source": [
    "substituicaoRegressiva(u=u, c=c)"
   ],
   "outputs": [
    {
     "output_type": "execute_result",
     "data": {
      "text/plain": [
       "array([1., 2., 1., 0.])"
      ]
     },
     "metadata": {},
     "execution_count": 13
    }
   ],
   "metadata": {}
  },
  {
   "cell_type": "markdown",
   "source": [
    "# Pivotamento parcial"
   ],
   "metadata": {}
  },
  {
   "cell_type": "code",
   "execution_count": 48,
   "source": [
    "def permuteMax(a, col):\r\n",
    "    maxPivoIndex = 0\r\n",
    "    for pivo in range(col, len(a)):\r\n",
    "        if abs(a[pivo][col]) > maxPivoIndex:\r\n",
    "            maxPivoIndex = pivo\r\n",
    "\r\n",
    "    maxList = a[maxPivoIndex]\r\n",
    "    a[maxPivoIndex] = a[col]\r\n",
    "    a[col] = maxList\r\n",
    "\r\n",
    "    return a\r\n",
    "\r\n",
    "\r\n",
    "a = [[2, 2, 1, 1],\r\n",
    "    [1, -1, 2, -1],\r\n",
    "    [3, 2, -3, -2],\r\n",
    "    [4, 3, 2, 1]]\r\n",
    "\r\n",
    "permuteMax(a, 0)"
   ],
   "outputs": [
    {
     "output_type": "execute_result",
     "data": {
      "text/plain": [
       "[[4, 3, 2, 1], [1, -1, 2, -1], [3, 2, -3, -2], [2, 2, 1, 1]]"
      ]
     },
     "metadata": {},
     "execution_count": 48
    }
   ],
   "metadata": {}
  },
  {
   "cell_type": "code",
   "execution_count": 51,
   "source": [
    "def pivotamentoParcial(a, b):\r\n",
    "    n = len(a)\r\n",
    "\r\n",
    "\r\n",
    "    for j in range(n - 1):\r\n",
    "\r\n",
    "        print(j)\r\n",
    "\r\n",
    "        for i in range(j + 1, n):\r\n",
    "            m = a[i][j] / a[j][j]\r\n",
    "            b[i] = b[i] - (m * b[j])\r\n",
    "\r\n",
    "            for k in range(j, n):\r\n",
    "                a[i][k] = a[i][k] - (m * a[j][k])\r\n",
    "                \r\n",
    "    return a, b"
   ],
   "outputs": [],
   "metadata": {}
  },
  {
   "cell_type": "code",
   "execution_count": 52,
   "source": [
    "a = [[2, 2, 1, 1],\r\n",
    "    [1, -1, 2, -1],\r\n",
    "    [3, 2, -3, -2],\r\n",
    "    [4, 3, 2, 1]]\r\n",
    "\r\n",
    "b = [7, 1, 4, 12]\r\n",
    "\r\n",
    "pivotamentoParcial(a=a, b=b)"
   ],
   "outputs": [
    {
     "output_type": "stream",
     "name": "stdout",
     "text": [
      "0\n",
      "1\n",
      "2\n"
     ]
    },
    {
     "output_type": "execute_result",
     "data": {
      "text/plain": [
       "([[4, 3, 2, 1],\n",
       "  [0.0, -1.75, 1.5, -1.25],\n",
       "  [0.0, 0.0, -4.714285714285714, -2.5714285714285716],\n",
       "  [0.0, 0.0, 0.0, -0.09090909090909086]],\n",
       " [7, -0.75, -1.1428571428571428, 8.181818181818183])"
      ]
     },
     "metadata": {},
     "execution_count": 52
    }
   ],
   "metadata": {}
  }
 ],
 "metadata": {
  "orig_nbformat": 4,
  "language_info": {
   "name": "python",
   "version": "3.8.8",
   "mimetype": "text/x-python",
   "codemirror_mode": {
    "name": "ipython",
    "version": 3
   },
   "pygments_lexer": "ipython3",
   "nbconvert_exporter": "python",
   "file_extension": ".py"
  },
  "kernelspec": {
   "name": "python3",
   "display_name": "Python 3.8.8 64-bit ('base': conda)"
  },
  "interpreter": {
   "hash": "2fe8837ebdb742e2494079c0ea10c808bc34ff06d27aa413b3464559f2c1d91d"
  }
 },
 "nbformat": 4,
 "nbformat_minor": 2
}